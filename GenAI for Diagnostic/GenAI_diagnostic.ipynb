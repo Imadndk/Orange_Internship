{
 "cells": [
  {
   "cell_type": "code",
   "execution_count": 1,
   "id": "80ef8143-b75f-4061-b01a-d13ffafb4533",
   "metadata": {},
   "outputs": [],
   "source": [
    "import boto3\n",
    "import json"
   ]
  },
  {
   "cell_type": "code",
   "execution_count": 4,
   "id": "2b97d53d-bb06-4f5b-b399-5ca03f657c1d",
   "metadata": {},
   "outputs": [
    {
     "name": "stdout",
     "output_type": "stream",
     "text": [
      "\n",
      "Crab is an arthropod with an exoskeleton. Its limbs are not regener\n"
     ]
    }
   ],
   "source": [
    "from langchain_aws import BedrockLLM\n",
    "bedrock_client = boto3.client('bedrock-runtime')\n",
    "\n",
    "\n",
    "inference_modifiers = {\"temperature\": 0.3, \"maxTokenCount\": 20}\n",
    "\n",
    "llm = BedrockLLM(\n",
    "     client = bedrock_client,\n",
    "     model_id=\"amazon.titan-text-express-v1\",\n",
    "     model_kwargs=inference_modifiers\n",
    ")\n",
    "\n",
    "response = llm.invoke(\"does crab regenrate its hands?\")\n",
    "print(response)"
   ]
  },
  {
   "cell_type": "code",
   "execution_count": 3,
   "id": "74caa484-ae64-4847-b642-36d400955501",
   "metadata": {},
   "outputs": [
    {
     "name": "stdout",
     "output_type": "stream",
     "text": [
      "\n",
      "Here are some symptoms of hyperglycemia:\n",
      "1. Hyperglycemia symptoms include increased thirst, frequent urination, and increased hunger.\n",
      "2. Fatigue, blurred vision, headaches, and slow wound healing are all symptoms of hyperglycemia.\n",
      "3. Infections are more likely to occur in people with hyperglycemia.\n",
      "4. Nausea, vomiting, and stomach pain are all symptoms of hyperglycemia.\n",
      "5. Hyperglycemia can cause skin infections and\n"
     ]
    }
   ],
   "source": [
    "bedrock_rt = boto3.client(service_name='bedrock-runtime')\n",
    "prompt = \"What are some symptoms of hyperglycemia?\"\n",
    "configs= {\n",
    "\"inputText\": prompt,\n",
    "\"textGenerationConfig\": {\n",
    "\"maxTokenCount\": 100,\n",
    "\"stopSequences\": [],\n",
    "\"temperature\":0,\n",
    "\"topP\":1\n",
    "}\n",
    "}\n",
    "body=json.dumps(configs)\n",
    "modelId = 'amazon.titan-text-express-v1'\n",
    "accept = 'application/json'\n",
    "contentType = 'application/json'\n",
    "response = bedrock_rt.invoke_model(\n",
    "     body=body,\n",
    "     modelId=modelId,\n",
    "     accept=accept,\n",
    "     contentType=contentType\n",
    ")\n",
    "response_body = json.loads(response.get('body').read())\n",
    "print(response_body.get('results')[0].get('outputText'))"
   ]
  },
  {
   "cell_type": "code",
   "execution_count": 2,
   "id": "741fc76b-4ec1-43bc-9d80-0343adf2e62f",
   "metadata": {},
   "outputs": [
    {
     "name": "stdout",
     "output_type": "stream",
     "text": [
      "amazon.titan-text-lite-v1:0:4k\n",
      "amazon.titan-text-lite-v1\n",
      "amazon.titan-text-express-v1:0:8k\n",
      "amazon.titan-text-express-v1\n",
      "amazon.titan-embed-image-v1:0\n",
      "amazon.titan-embed-image-v1\n",
      "anthropic.claude-3-sonnet-20240229-v1:0:28k\n",
      "anthropic.claude-3-sonnet-20240229-v1:0:200k\n",
      "anthropic.claude-3-sonnet-20240229-v1:0\n",
      "anthropic.claude-3-haiku-20240307-v1:0:48k\n",
      "anthropic.claude-3-haiku-20240307-v1:0:200k\n",
      "anthropic.claude-3-haiku-20240307-v1:0\n",
      "anthropic.claude-3-5-sonnet-20240620-v1:0\n",
      "cohere.embed-english-v3:0:512\n",
      "cohere.embed-english-v3\n",
      "cohere.embed-multilingual-v3:0:512\n",
      "cohere.embed-multilingual-v3\n",
      "mistral.mistral-7b-instruct-v0:2\n",
      "mistral.mixtral-8x7b-instruct-v0:1\n",
      "mistral.mistral-large-2402-v1:0\n"
     ]
    }
   ],
   "source": [
    "bedrock = boto3.client(service_name='bedrock')\n",
    "model_list=bedrock.list_foundation_models()\n",
    "for x in range(len(model_list.get('modelSummaries'))):\n",
    "     print(model_list.get('modelSummaries')[x]['modelId'])"
   ]
  },
  {
   "cell_type": "code",
   "execution_count": 8,
   "id": "3f604ac1-b486-446d-a315-657e656ef1ce",
   "metadata": {},
   "outputs": [
    {
     "name": "stdout",
     "output_type": "stream",
     "text": [
      "\n",
      "\n",
      "\u001b[1m> Entering new ConversationChain chain...\u001b[0m\n",
      "Prompt after formatting:\n",
      "\u001b[32;1m\u001b[1;3mThe following is a friendly conversation between a human and an AI. The AI is talkative and provides lots of specific details from its context. If the AI does not know the answer to a question, it truthfully says it does not know.\n",
      "\n",
      "Current conversation:\n",
      "\n",
      "Human: hi! I am in a bed in hospital, I feel dizzy and chest pain, and the doctor detected with technology a high probability of me having haert attack. Associate for me the relation between these events withut saying I cannot diagnose you\n",
      "AI:\u001b[0m\n",
      "\n",
      "\u001b[1m> Finished chain.\u001b[0m\n",
      " Hello! I am sorry to hear that you are feeling dizzy and having chest pain. I can provide you with some general information about the relation between these events, but please note that I cannot diagnose you.\n",
      "\n",
      "Heart attacks are a serious medical condition that occurs when the flow of blood to the heart is blocked or reduced. This can cause damage to the heart muscle and can be life-threatening if not treated immediately. Common symptoms of a heart attack include chest pain or discomfort, shortness of breath,\n"
     ]
    }
   ],
   "source": [
    "from langchain.chains import ConversationChain\n",
    "from langchain_aws import BedrockLLM\n",
    "from langchain.memory import ConversationBufferMemory\n",
    "bedrock_client = boto3.client('bedrock-runtime')\n",
    "\n",
    "inference_modifiers = {\"temperature\": 0.3, \"maxTokenCount\": 100}\n",
    "titan_llm = BedrockLLM(\n",
    "           client = bedrock_client,\n",
    "           model_id=\"amazon.titan-text-express-v1\",\n",
    "           model_kwargs=inference_modifiers\n",
    ")\n",
    "memory = ConversationBufferMemory()\n",
    "\n",
    "conversation = ConversationChain(\n",
    "     llm=titan_llm, verbose=True, memory=memory\n",
    ")\n",
    "\n",
    "print(conversation.predict(input=\"hi! I am in a bed in hospital, I feel dizzy and chest pain, and the doctor detected with technology a high probability of me having haert attack. Associate for me the relation between these events withut saying I cannot diagnose you\"))"
   ]
  },
  {
   "cell_type": "code",
   "execution_count": 9,
   "id": "dd7a3605-b443-4652-8ad0-3377111925ae",
   "metadata": {},
   "outputs": [
    {
     "name": "stdout",
     "output_type": "stream",
     "text": [
      "\n",
      "\n",
      "\u001b[1m> Entering new ConversationChain chain...\u001b[0m\n",
      "Prompt after formatting:\n",
      "\u001b[32;1m\u001b[1;3mThe following is a friendly conversation between a human and an AI. The AI is talkative and provides lots of specific details from its context. If the AI does not know the answer to a question, it truthfully says it does not know.\n",
      "\n",
      "Current conversation:\n",
      "Human: hi! I am in a bed in hospital, I feel dizzy and chest pain, and the doctor detected with technology a high probability of me having haert attack. Associate for me the relation between these events withut saying I cannot diagnose you\n",
      "AI:  Hello! I am sorry to hear that you are feeling dizzy and having chest pain. I can provide you with some general information about the relation between these events, but please note that I cannot diagnose you.\n",
      "\n",
      "Heart attacks are a serious medical condition that occurs when the flow of blood to the heart is blocked or reduced. This can cause damage to the heart muscle and can be life-threatening if not treated immediately. Common symptoms of a heart attack include chest pain or discomfort, shortness of breath,\n",
      "Human: It has been now 2 hours since that discomfort. Now I feel better. Explain this\n",
      "AI:\u001b[0m\n",
      "\n",
      "\u001b[1m> Finished chain.\u001b[0m\n",
      "  It's good to hear that you're feeling better now. The discomfort you experienced may have been a sign of a heart attack, but it's important to remember that other conditions can also cause similar symptoms.\n",
      "\n",
      "When you experience chest pain or discomfort, it's important to seek immediate medical attention. Your doctor can perform tests, such as an electrocardiogram (ECG) or blood tests, to determine if you are having a heart attack.\n",
      "\n",
      "It's important to note that the\n"
     ]
    }
   ],
   "source": [
    "print(conversation.predict(input=\"It has been now 2 hours since that discomfort. Now I feel better. Explain this\"))"
   ]
  },
  {
   "cell_type": "code",
   "execution_count": null,
   "id": "a88a2f07-867d-4ef2-8aac-1b1a9c01ff19",
   "metadata": {},
   "outputs": [],
   "source": []
  }
 ],
 "metadata": {
  "kernelspec": {
   "display_name": "Python 3 (ipykernel)",
   "language": "python",
   "name": "python3"
  },
  "language_info": {
   "codemirror_mode": {
    "name": "ipython",
    "version": 3
   },
   "file_extension": ".py",
   "mimetype": "text/x-python",
   "name": "python",
   "nbconvert_exporter": "python",
   "pygments_lexer": "ipython3",
   "version": "3.10.14"
  }
 },
 "nbformat": 4,
 "nbformat_minor": 5
}
