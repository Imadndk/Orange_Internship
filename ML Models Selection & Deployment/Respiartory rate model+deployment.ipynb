{
 "cells": [
  {
   "cell_type": "code",
   "execution_count": 1,
   "id": "f812b8da-4043-4111-b9d4-7e859d086e7b",
   "metadata": {},
   "outputs": [
    {
     "name": "stdout",
     "output_type": "stream",
     "text": [
      "sagemaker.config INFO - Not applying SDK defaults from location: /etc/xdg/sagemaker/config.yaml\n",
      "sagemaker.config INFO - Not applying SDK defaults from location: /home/sagemaker-user/.config/sagemaker/config.yaml\n",
      "bucket: sagemaker-eu-west-3-024848443248\n"
     ]
    }
   ],
   "source": [
    "import os\n",
    "import boto3\n",
    "import re\n",
    "import json\n",
    "import pandas as pd\n",
    "import numpy as np\n",
    "import sagemaker\n",
    "from sagemaker import get_execution_role\n",
    "from sagemaker.sklearn.model import SKLearnModel\n",
    "from sklearn.model_selection import train_test_split\n",
    "\n",
    "region = boto3.Session().region_name\n",
    "sm_boto3 = boto3.client(\"sagemaker\")\n",
    "role = get_execution_role()\n",
    "sess=sagemaker.Session()\n",
    "bucket = sagemaker.Session().default_bucket()\n",
    "prefix = \"sagemaker/modelRR\"\n",
    "print(f\"bucket: {bucket}\")"
   ]
  },
  {
   "cell_type": "markdown",
   "id": "081538d5-708a-415e-a3a6-bbf42898ceec",
   "metadata": {},
   "source": [
    "## Import Library and Dataset"
   ]
  },
  {
   "cell_type": "code",
   "execution_count": 2,
   "id": "6c4ac2e8-ff80-4b0c-87cb-f9b9d41b5fda",
   "metadata": {},
   "outputs": [],
   "source": [
    "import numpy as np\n",
    "import pandas as pd\n",
    "from sklearn.model_selection import train_test_split\n",
    "from sklearn.metrics import accuracy_score\n",
    "import matplotlib.pyplot as plt\n",
    "import matplotlib.pylab as pylab\n",
    "from sklearn.decomposition import PCA\n",
    "from sklearn.pipeline import Pipeline\n",
    "from sklearn.tree import DecisionTreeRegressor\n",
    "from sklearn.ensemble import RandomForestRegressor\n",
    "from sklearn.linear_model import LinearRegression\n",
    "from xgboost import XGBRegressor\n",
    "from sklearn.neighbors import KNeighborsRegressor\n",
    "from sklearn.model_selection import cross_val_score\n",
    "from sklearn import metrics\n",
    "from sklearn.metrics import mean_squared_error\n",
    "from sklearn.metrics import r2_score\n",
    "\n",
    "\n"
   ]
  },
  {
   "cell_type": "code",
   "execution_count": 3,
   "id": "416b1daf-2ae6-4df6-a5d6-a02adf4bdc30",
   "metadata": {},
   "outputs": [],
   "source": [
    "df1= pd.read_csv('respiartory_rate_prediction_dataset.csv')\n"
   ]
  },
  {
   "cell_type": "code",
   "execution_count": 4,
   "id": "98f46ca5-1c07-4dad-b6e1-7039e0314393",
   "metadata": {},
   "outputs": [
    {
     "data": {
      "text/html": [
       "<div>\n",
       "<style scoped>\n",
       "    .dataframe tbody tr th:only-of-type {\n",
       "        vertical-align: middle;\n",
       "    }\n",
       "\n",
       "    .dataframe tbody tr th {\n",
       "        vertical-align: top;\n",
       "    }\n",
       "\n",
       "    .dataframe thead th {\n",
       "        text-align: right;\n",
       "    }\n",
       "</style>\n",
       "<table border=\"1\" class=\"dataframe\">\n",
       "  <thead>\n",
       "    <tr style=\"text-align: right;\">\n",
       "      <th></th>\n",
       "      <th>heart_rate</th>\n",
       "      <th>body_temperature</th>\n",
       "      <th>oxygen_saturation</th>\n",
       "      <th>respiratory_rate</th>\n",
       "    </tr>\n",
       "  </thead>\n",
       "  <tbody>\n",
       "    <tr>\n",
       "      <th>0</th>\n",
       "      <td>69.636603</td>\n",
       "      <td>36.946136</td>\n",
       "      <td>92.055299</td>\n",
       "      <td>13.087644</td>\n",
       "    </tr>\n",
       "    <tr>\n",
       "      <th>1</th>\n",
       "      <td>118.919597</td>\n",
       "      <td>36.662769</td>\n",
       "      <td>100.000000</td>\n",
       "      <td>18.000000</td>\n",
       "    </tr>\n",
       "    <tr>\n",
       "      <th>2</th>\n",
       "      <td>90.183049</td>\n",
       "      <td>37.500000</td>\n",
       "      <td>100.000000</td>\n",
       "      <td>16.229694</td>\n",
       "    </tr>\n",
       "    <tr>\n",
       "      <th>3</th>\n",
       "      <td>93.264870</td>\n",
       "      <td>37.500000</td>\n",
       "      <td>100.000000</td>\n",
       "      <td>14.828433</td>\n",
       "    </tr>\n",
       "    <tr>\n",
       "      <th>4</th>\n",
       "      <td>42.267821</td>\n",
       "      <td>36.660542</td>\n",
       "      <td>87.598401</td>\n",
       "      <td>11.059947</td>\n",
       "    </tr>\n",
       "  </tbody>\n",
       "</table>\n",
       "</div>"
      ],
      "text/plain": [
       "   heart_rate  body_temperature  oxygen_saturation  respiratory_rate\n",
       "0   69.636603         36.946136          92.055299         13.087644\n",
       "1  118.919597         36.662769         100.000000         18.000000\n",
       "2   90.183049         37.500000         100.000000         16.229694\n",
       "3   93.264870         37.500000         100.000000         14.828433\n",
       "4   42.267821         36.660542          87.598401         11.059947"
      ]
     },
     "execution_count": 4,
     "metadata": {},
     "output_type": "execute_result"
    }
   ],
   "source": [
    "df1.head()"
   ]
  },
  {
   "cell_type": "markdown",
   "id": "87364c13-cffa-48d9-bace-e66a9d3c7e5d",
   "metadata": {},
   "source": [
    "## Exploratory data analysis"
   ]
  },
  {
   "cell_type": "code",
   "execution_count": 5,
   "id": "5f26c7e2-af67-435a-82e4-02429700cd03",
   "metadata": {},
   "outputs": [
    {
     "data": {
      "text/plain": [
       "10"
      ]
     },
     "execution_count": 5,
     "metadata": {},
     "output_type": "execute_result"
    }
   ],
   "source": [
    "df1.duplicated().sum()\n"
   ]
  },
  {
   "cell_type": "code",
   "execution_count": 6,
   "id": "a2611877-4d3f-4e24-8829-23c663f49bba",
   "metadata": {},
   "outputs": [],
   "source": [
    "df= df1.drop_duplicates()\n"
   ]
  },
  {
   "cell_type": "code",
   "execution_count": 7,
   "id": "0b2ffef4-1832-4230-b603-88ad8a593b9b",
   "metadata": {},
   "outputs": [
    {
     "data": {
      "text/plain": [
       "0"
      ]
     },
     "execution_count": 7,
     "metadata": {},
     "output_type": "execute_result"
    }
   ],
   "source": [
    "df.duplicated().sum()"
   ]
  },
  {
   "cell_type": "code",
   "execution_count": 8,
   "id": "ed18480f-cfcc-4265-be7d-1b74e7519e68",
   "metadata": {},
   "outputs": [
    {
     "name": "stdout",
     "output_type": "stream",
     "text": [
      "<class 'pandas.core.frame.DataFrame'>\n",
      "Index: 990 entries, 0 to 999\n",
      "Data columns (total 4 columns):\n",
      " #   Column             Non-Null Count  Dtype  \n",
      "---  ------             --------------  -----  \n",
      " 0   heart_rate         990 non-null    float64\n",
      " 1   body_temperature   990 non-null    float64\n",
      " 2   oxygen_saturation  990 non-null    float64\n",
      " 3   respiratory_rate   990 non-null    float64\n",
      "dtypes: float64(4)\n",
      "memory usage: 38.7 KB\n"
     ]
    }
   ],
   "source": [
    "df.info()"
   ]
  },
  {
   "cell_type": "code",
   "execution_count": 9,
   "id": "c50090db-dbb8-4c7c-83d4-de5e1c36d53d",
   "metadata": {},
   "outputs": [
    {
     "data": {
      "text/plain": [
       "heart_rate           0\n",
       "body_temperature     0\n",
       "oxygen_saturation    0\n",
       "respiratory_rate     0\n",
       "dtype: int64"
      ]
     },
     "execution_count": 9,
     "metadata": {},
     "output_type": "execute_result"
    }
   ],
   "source": [
    "df.isnull().sum()"
   ]
  },
  {
   "cell_type": "code",
   "execution_count": 10,
   "id": "dd6170e4-5003-44fb-81ef-5ac467d00ed3",
   "metadata": {},
   "outputs": [
    {
     "data": {
      "text/html": [
       "<div>\n",
       "<style scoped>\n",
       "    .dataframe tbody tr th:only-of-type {\n",
       "        vertical-align: middle;\n",
       "    }\n",
       "\n",
       "    .dataframe tbody tr th {\n",
       "        vertical-align: top;\n",
       "    }\n",
       "\n",
       "    .dataframe thead th {\n",
       "        text-align: right;\n",
       "    }\n",
       "</style>\n",
       "<table border=\"1\" class=\"dataframe\">\n",
       "  <thead>\n",
       "    <tr style=\"text-align: right;\">\n",
       "      <th></th>\n",
       "      <th>heart_rate</th>\n",
       "      <th>body_temperature</th>\n",
       "      <th>oxygen_saturation</th>\n",
       "      <th>respiratory_rate</th>\n",
       "    </tr>\n",
       "  </thead>\n",
       "  <tbody>\n",
       "    <tr>\n",
       "      <th>count</th>\n",
       "      <td>990.000000</td>\n",
       "      <td>990.000000</td>\n",
       "      <td>990.000000</td>\n",
       "      <td>990.000000</td>\n",
       "    </tr>\n",
       "    <tr>\n",
       "      <th>mean</th>\n",
       "      <td>79.191258</td>\n",
       "      <td>36.937696</td>\n",
       "      <td>94.775231</td>\n",
       "      <td>14.159599</td>\n",
       "    </tr>\n",
       "    <tr>\n",
       "      <th>std</th>\n",
       "      <td>18.682453</td>\n",
       "      <td>0.449791</td>\n",
       "      <td>6.467968</td>\n",
       "      <td>1.872105</td>\n",
       "    </tr>\n",
       "    <tr>\n",
       "      <th>min</th>\n",
       "      <td>40.000000</td>\n",
       "      <td>36.000000</td>\n",
       "      <td>69.478515</td>\n",
       "      <td>10.500000</td>\n",
       "    </tr>\n",
       "    <tr>\n",
       "      <th>25%</th>\n",
       "      <td>66.486974</td>\n",
       "      <td>36.617303</td>\n",
       "      <td>90.708322</td>\n",
       "      <td>12.847047</td>\n",
       "    </tr>\n",
       "    <tr>\n",
       "      <th>50%</th>\n",
       "      <td>79.044734</td>\n",
       "      <td>36.983784</td>\n",
       "      <td>97.655579</td>\n",
       "      <td>14.107378</td>\n",
       "    </tr>\n",
       "    <tr>\n",
       "      <th>75%</th>\n",
       "      <td>92.488000</td>\n",
       "      <td>37.338772</td>\n",
       "      <td>100.000000</td>\n",
       "      <td>15.455415</td>\n",
       "    </tr>\n",
       "    <tr>\n",
       "      <th>max</th>\n",
       "      <td>120.000000</td>\n",
       "      <td>37.500000</td>\n",
       "      <td>100.000000</td>\n",
       "      <td>18.000000</td>\n",
       "    </tr>\n",
       "  </tbody>\n",
       "</table>\n",
       "</div>"
      ],
      "text/plain": [
       "       heart_rate  body_temperature  oxygen_saturation  respiratory_rate\n",
       "count  990.000000        990.000000         990.000000        990.000000\n",
       "mean    79.191258         36.937696          94.775231         14.159599\n",
       "std     18.682453          0.449791           6.467968          1.872105\n",
       "min     40.000000         36.000000          69.478515         10.500000\n",
       "25%     66.486974         36.617303          90.708322         12.847047\n",
       "50%     79.044734         36.983784          97.655579         14.107378\n",
       "75%     92.488000         37.338772         100.000000         15.455415\n",
       "max    120.000000         37.500000         100.000000         18.000000"
      ]
     },
     "execution_count": 10,
     "metadata": {},
     "output_type": "execute_result"
    }
   ],
   "source": [
    "df.describe()"
   ]
  },
  {
   "cell_type": "code",
   "execution_count": 11,
   "id": "aa3f2982-b208-4e90-a83e-18ac68440192",
   "metadata": {},
   "outputs": [
    {
     "data": {
      "text/plain": [
       "heart_rate           0\n",
       "body_temperature     0\n",
       "oxygen_saturation    0\n",
       "respiratory_rate     0\n",
       "dtype: int64"
      ]
     },
     "execution_count": 11,
     "metadata": {},
     "output_type": "execute_result"
    }
   ],
   "source": [
    "df.isnull().sum()"
   ]
  },
  {
   "cell_type": "markdown",
   "id": "87cb956e-c9c4-49a9-bf35-1b8df1065f56",
   "metadata": {},
   "source": [
    "## Data Preprocessing"
   ]
  },
  {
   "cell_type": "code",
   "execution_count": 12,
   "id": "dcb7029f-38ac-4b39-94a9-14431f5fb647",
   "metadata": {},
   "outputs": [],
   "source": [
    "def remove_outliers(df2, column):\n",
    "    Q1 = df2[column].quantile(0.25)\n",
    "    Q3 = df2[column].quantile(0.75)\n",
    "    IQR = Q3 - Q1\n",
    "    lower_bound = Q1 - 1.5 * IQR\n",
    "    upper_bound = Q3 + 1.5 * IQR\n",
    "    return df2[(df2[column] >= lower_bound) & (df2[column] <= upper_bound)]\n",
    "\n",
    "for col in df.columns:\n",
    "    df = remove_outliers(df, col)\n",
    "\n",
    "plt.show()"
   ]
  },
  {
   "cell_type": "markdown",
   "id": "2cbc8b93-fd48-4226-9ff0-90483db0394a",
   "metadata": {},
   "source": [
    "## Train Test split & Model building\n"
   ]
  },
  {
   "cell_type": "code",
   "execution_count": 13,
   "id": "a9ff5b2d-ba6b-4a59-ae5e-a69284b26d74",
   "metadata": {},
   "outputs": [
    {
     "name": "stdout",
     "output_type": "stream",
     "text": [
      "Mean Squared Error: 0.3636736542947787\n"
     ]
    }
   ],
   "source": [
    "from xgboost import XGBRegressor\n",
    "from sklearn.model_selection import train_test_split\n",
    "from sklearn.metrics import mean_squared_error\n",
    "from sklearn.preprocessing import StandardScaler\n",
    "\n",
    "X = df.drop(columns=['respiratory_rate'],axis=1)\n",
    "y = df['respiratory_rate']\n",
    "X_train, X_test, y_train, y_test = train_test_split(X, y, test_size=0.23, random_state=23)\n",
    "modelRR =XGBRegressor()\n",
    "modelRR.fit(X_train, y_train)\n",
    "\n",
    "y_pred = modelRR.predict(X_test)\n",
    "\n",
    "print(\"Mean Squared Error:\", mean_squared_error(y_test, y_pred))"
   ]
  },
  {
   "cell_type": "code",
   "execution_count": 14,
   "id": "51e7913b-0f06-48f2-b9f5-b59d024551b4",
   "metadata": {},
   "outputs": [
    {
     "name": "stdout",
     "output_type": "stream",
     "text": [
      "[13.566343]\n"
     ]
    }
   ],
   "source": [
    "predictions = modelRR.predict(np.array([[85, 37.0, 88]]))\n",
    "\n",
    "print(predictions)"
   ]
  },
  {
   "cell_type": "markdown",
   "id": "f4dcc062-0158-4d85-b075-6b6a963d850e",
   "metadata": {},
   "source": [
    "## Model XGB evaluation\n"
   ]
  },
  {
   "cell_type": "code",
   "execution_count": 15,
   "id": "1dca7583-de00-48e8-b648-5fdcbb83751d",
   "metadata": {},
   "outputs": [
    {
     "name": "stdout",
     "output_type": "stream",
     "text": [
      "R-squared: 0.8843370188081348\n"
     ]
    }
   ],
   "source": [
    "r2 = r2_score(y_test, y_pred)\n",
    "print(\"R-squared:\", r2)"
   ]
  },
  {
   "cell_type": "markdown",
   "id": "56fb9dc1-ec1a-4d30-914b-2ce42e71c549",
   "metadata": {},
   "source": [
    "## Model XGBoost Saving\n"
   ]
  },
  {
   "cell_type": "code",
   "execution_count": 16,
   "id": "198de009-01d9-48b1-bd7c-058a8094d457",
   "metadata": {},
   "outputs": [
    {
     "data": {
      "text/plain": [
       "['XGBoostRR.pkl']"
      ]
     },
     "execution_count": 16,
     "metadata": {},
     "output_type": "execute_result"
    }
   ],
   "source": [
    "import joblib\n",
    "\n",
    "joblib.dump(modelRR, 'XGBoostRR.pkl')"
   ]
  },
  {
   "cell_type": "code",
   "execution_count": 17,
   "id": "6e817936-2155-448f-8a6c-8f743a8f3cb9",
   "metadata": {},
   "outputs": [],
   "source": [
    "trainX= pd.DataFrame(X_train)\n",
    "trainX['respiratory_rate']=y_train\n",
    "testX=pd.DataFrame(X_test)\n",
    "testX['respiratory_rate']=y_test"
   ]
  },
  {
   "cell_type": "code",
   "execution_count": 18,
   "id": "22febfc1-9eef-408f-a35b-861205c2f88c",
   "metadata": {},
   "outputs": [],
   "source": [
    "trainX.to_csv(\"train-V2.csv\",index=False)\n",
    "testX.to_csv(\"test-V2.csv\",index=False)"
   ]
  },
  {
   "cell_type": "code",
   "execution_count": 19,
   "id": "11b3b7cf-7425-4aa9-804b-778e11de411c",
   "metadata": {},
   "outputs": [],
   "source": [
    "sk_prefix=\"sagemaker/RR_estimation/XGBcontainer\"\n",
    "trainpath=sess.upload_data(path=\"train-V2.csv\", bucket=bucket, key_prefix=sk_prefix)\n",
    "testpath=sess.upload_data(path=\"test-V2.csv\",bucket=bucket, key_prefix=sk_prefix)"
   ]
  },
  {
   "cell_type": "code",
   "execution_count": 20,
   "id": "17724cf0-e1d1-449e-9885-6a2cc9bf68d8",
   "metadata": {},
   "outputs": [
    {
     "name": "stdout",
     "output_type": "stream",
     "text": [
      "s3://sagemaker-eu-west-3-024848443248/sagemaker/RR_estimation/XGBcontainer/train-V2.csv\n",
      "s3://sagemaker-eu-west-3-024848443248/sagemaker/RR_estimation/XGBcontainer/test-V2.csv\n"
     ]
    }
   ],
   "source": [
    "print(trainpath)\n",
    "print(testpath)"
   ]
  },
  {
   "cell_type": "code",
   "execution_count": 21,
   "id": "9870b373-723f-4cfe-9885-e4a93f944e69",
   "metadata": {},
   "outputs": [],
   "source": [
    "import tarfile\n",
    "\n",
    "with tarfile.open('XGBoostRR.tar.gz', mode='w:gz') as archive:\n",
    "    archive.add('XGBoostRR.pkl')\n"
   ]
  },
  {
   "cell_type": "code",
   "execution_count": 22,
   "id": "f3a8968f-f01e-40d7-b3f7-b78c7d8278eb",
   "metadata": {},
   "outputs": [],
   "source": [
    "fObj = open(\"XGBoostRR.tar.gz\", \"rb\")\n",
    "key = os.path.join(prefix, \"XGBoostRR.tar.gz\")\n",
    "boto3.Session().resource(\"s3\").Bucket(bucket).Object(key).upload_fileobj(fObj)"
   ]
  },
  {
   "cell_type": "code",
   "execution_count": 23,
   "id": "0c767531-563d-4c4e-b9b3-061770244ca2",
   "metadata": {},
   "outputs": [
    {
     "name": "stdout",
     "output_type": "stream",
     "text": [
      "model data: s3://sagemaker-eu-west-3-024848443248/sagemaker/modelRR/XGBoostRR.tar.gz\n"
     ]
    }
   ],
   "source": [
    "model_data = \"s3://{}/{}\".format(bucket, key)\n",
    "print(f\"model data: {model_data}\")"
   ]
  },
  {
   "cell_type": "code",
   "execution_count": 24,
   "id": "e7b716af-97cd-4bf8-8e4e-91c4e2f38a45",
   "metadata": {},
   "outputs": [],
   "source": [
    "import numpy as np\n",
    "import json\n",
    "import pandas as pd\n",
    "import io\n",
    "from io import BytesIO"
   ]
  },
  {
   "cell_type": "code",
   "execution_count": 25,
   "id": "48934545-fbdf-4e83-b68b-f7626834214b",
   "metadata": {},
   "outputs": [
    {
     "name": "stdout",
     "output_type": "stream",
     "text": [
      "Overwriting script.py\n"
     ]
    }
   ],
   "source": [
    "%%writefile script.py\n",
    "import json\n",
    "import numpy as np\n",
    "import io\n",
    "from io import BytesIO\n",
    "import argparse\n",
    "import os\n",
    "import joblib\n",
    "import pandas as pd\n",
    "import xgboost as xgb\n",
    "from sklearn.metrics import r2_score\n",
    "def model_fn(model_dir):\n",
    "    plr = joblib.load(os.path.join(model_dir, 'model.joblib'))\n",
    "    return plr\n",
    "\n",
    "def input_fn(request_body, content_type):\n",
    "    if content_type == 'application/json':\n",
    "        request = json.loads(request_body)\n",
    "        return pd.DataFrame(request)\n",
    "    elif content_type == 'text/csv':\n",
    "        return pd.read_csv(io.StringIO(request_body), header=None)\n",
    "    elif content_type == 'application/x-npy':\n",
    "        stream = BytesIO(request_body)\n",
    "        data = np.load(stream)\n",
    "        return pd.DataFrame(data)\n",
    "    elif content_type == 'text/libsvm':\n",
    "        from sklearn.datasets import load_svmlight_file\n",
    "        stream = io.StringIO(request_body)\n",
    "        X, y = load_svmlight_file(stream)\n",
    "        return pd.DataFrame(X)\n",
    "    else:\n",
    "        raise ValueError(f'Unsupported content type: {content_type}')\n",
    "\n",
    "def predict_fn(input_data, model):\n",
    "    predictions = model.predict(input_data)\n",
    "    return predictions\n",
    "\n",
    "def output_fn(prediction, accept):\n",
    "    # Handle JSON output\n",
    "    if accept == 'application/json':\n",
    "        response = prediction.tolist()\n",
    "        return json.dumps(response), 'application/json'\n",
    "    \n",
    "    # Handle CSV output\n",
    "    elif accept == 'text/csv':\n",
    "        output = io.StringIO()\n",
    "        pd.DataFrame(prediction).to_csv(output, header=False, index=False)\n",
    "        return output.getvalue(), 'text/csv'\n",
    "    \n",
    "    # Handle HTML output\n",
    "    elif accept == 'text/html; charset=utf-8':\n",
    "        # Convert the prediction to a simple HTML table\n",
    "        html = \"<html><body><h2>Prediction Results</h2><table border='1'>\"\n",
    "        for row in prediction:\n",
    "            html += \"<tr>\"\n",
    "            for val in row:\n",
    "                html += f\"<td>{val}</td>\"\n",
    "            html += \"</tr>\"\n",
    "        html += \"</table></body></html>\"\n",
    "        return html, 'text/html; charset=utf-8'\n",
    "    \n",
    "    # Fallback: Raise an error if content type is unsupported\n",
    "    else:\n",
    "        raise ValueError(f'Unsupported content type: {accept}')\n",
    "\n",
    "\n",
    "if __name__ == \"__main__\":\n",
    "    print(\"Extracting arguments\")\n",
    "    parser = argparse.ArgumentParser()\n",
    "\n",
    "    # Hyperparameters sent by the client are passed as command-line arguments to the script.\n",
    "    parser.add_argument(\"--n-estimators\", type=int, default=100)\n",
    "    parser.add_argument(\"--learning-rate\", type=float, default=0.1)\n",
    "    parser.add_argument(\"--max-depth\", type=int, default=3)\n",
    "\n",
    "    # Data, model, and output directories\n",
    "    parser.add_argument(\"--model-dir\", type=str, default=os.environ.get(\"SM_MODEL_DIR\"))\n",
    "    parser.add_argument(\"--train\", type=str, default=os.environ.get(\"SM_CHANNEL_TRAIN\"))\n",
    "    parser.add_argument(\"--test\", type=str, default=os.environ.get(\"SM_CHANNEL_TEST\"))\n",
    "    parser.add_argument(\"--train-file\", type=str, default=\"train-V2.csv\")\n",
    "    parser.add_argument(\"--test-file\", type=str, default=\"test-V2.csv\")\n",
    "    \n",
    "    args, _ = parser.parse_known_args()\n",
    "    \n",
    "    print(\"Reading data\")\n",
    "\n",
    "    train_df = pd.read_csv(os.path.join(args.train, args.train_file))\n",
    "    test_df = pd.read_csv(os.path.join(args.test, args.test_file))\n",
    "\n",
    "    print(\"Building training and testing datasets\")\n",
    "\n",
    "    X_train = train_df.iloc[:, :-1]  \n",
    "    X_test = test_df.iloc[:, :-1]   \n",
    "    y_train = train_df.iloc[:, -1]   \n",
    "    y_test = test_df.iloc[:, -1]\n",
    "    \n",
    "    print(\"Training model\")\n",
    "\n",
    "    model = xgb.XGBRegressor(\n",
    "        n_estimators=args.n_estimators,\n",
    "        learning_rate=args.learning_rate,\n",
    "        max_depth=args.max_depth,\n",
    "        objective='reg:squarederror'\n",
    "    )\n",
    "\n",
    "    model.fit(X_train, y_train)\n",
    "\n",
    "    # Validate model\n",
    "    print(\"Validating model\")\n",
    "    y_pred_train = model.predict(X_train)\n",
    "    y_pred_test = model.predict(X_test)\n",
    "\n",
    "    train_r2 = r2_score(y_train, y_pred_train)\n",
    "    test_r2 = r2_score(y_test, y_pred_test)\n",
    "\n",
    "    print(f\"Train R2: {train_r2:.3f}\")\n",
    "    print(f\"Test R2: {test_r2:.3f}\")\n",
    "\n",
    "    # Persist model\n",
    "    model_path = os.path.join(args.model_dir, \"model.joblib\")\n",
    "    joblib.dump(model, model_path)\n",
    "    print(\"Model persisted at \" + model_path)"
   ]
  },
  {
   "cell_type": "code",
   "execution_count": 26,
   "id": "c2b3cc86-8a5c-4d99-b70b-c933d2e59f31",
   "metadata": {},
   "outputs": [
    {
     "name": "stdout",
     "output_type": "stream",
     "text": [
      "Extracting arguments\n",
      "Reading data\n",
      "Building training and testing datasets\n",
      "Training model\n",
      "Validating model\n",
      "Train R2: 0.943\n",
      "Test R2: 0.910\n",
      "Model persisted at ./model.joblib\n"
     ]
    }
   ],
   "source": [
    "! python script.py --n-estimators 100 \\\n",
    "                 --learning-rate 0.1 \\\n",
    "                 --max-depth 3 \\\n",
    "                 --model-dir ./ \\\n",
    "                 --train ./ \\\n",
    "                 --test ./ \\\n",
    "                 --train-file train-V2.csv \\\n",
    "                 --test-file test-V2.csv"
   ]
  },
  {
   "cell_type": "code",
   "execution_count": 27,
   "id": "4e5817fd-e007-4d93-85ef-89abe138f3e9",
   "metadata": {},
   "outputs": [],
   "source": [
    "from sagemaker.xgboost.estimator import XGBoost\n",
    "import sagemaker\n",
    "from sagemaker import get_execution_role\n",
    "\n",
    "FRAMEWORK_VERSION = \"1.5-1\"  \n",
    "xgboost_estimator = XGBoost(\n",
    "    entry_point=\"script.py\",  \n",
    "    role=get_execution_role(),  \n",
    "    instance_count=1,  \n",
    "    instance_type=\"ml.c5.xlarge\",  \n",
    "    framework_version=FRAMEWORK_VERSION,  \n",
    "    base_job_name=\"xgb-training-job\", \n",
    "    hyperparameters={\n",
    "        \"n-estimators\": 100,\n",
    "        \"learning-rate\": 0.1,\n",
    "        \"max-depth\": 3,\n",
    "    },\n",
    ")\n"
   ]
  },
  {
   "cell_type": "code",
   "execution_count": 28,
   "id": "9663c6ef-f94a-4e7c-a287-b5279a205e3f",
   "metadata": {
    "scrolled": true
   },
   "outputs": [
    {
     "name": "stderr",
     "output_type": "stream",
     "text": [
      "INFO:sagemaker:Creating training-job with name: xgb-training-job-2024-09-23-20-05-13-292\n"
     ]
    },
    {
     "name": "stdout",
     "output_type": "stream",
     "text": [
      "2024-09-23 20:05:13 Starting - Starting the training job...\n",
      "2024-09-23 20:05:37 Starting - Preparing the instances for training...\n",
      "2024-09-23 20:06:02 Downloading - Downloading input data...\n",
      "2024-09-23 20:06:37 Downloading - Downloading the training image...\n",
      "2024-09-23 20:07:08 Training - Training image download completed. Training in progress..\u001b[34m/miniconda3/lib/python3.8/site-packages/xgboost/compat.py:36: FutureWarning: pandas.Int64Index is deprecated and will be removed from pandas in a future version. Use pandas.Index with the appropriate dtype instead.\n",
      "  from pandas import MultiIndex, Int64Index\u001b[0m\n",
      "\u001b[34m[2024-09-23 20:07:10.450 ip-10-0-133-168.eu-west-3.compute.internal:7 INFO utils.py:28] RULE_JOB_STOP_SIGNAL_FILENAME: None\u001b[0m\n",
      "\u001b[34m[2024-09-23 20:07:10.469 ip-10-0-133-168.eu-west-3.compute.internal:7 INFO profiler_config_parser.py:111] User has disabled profiler.\u001b[0m\n",
      "\u001b[34m[2024-09-23:20:07:10:INFO] Imported framework sagemaker_xgboost_container.training\u001b[0m\n",
      "\u001b[34m[2024-09-23:20:07:10:INFO] No GPUs detected (normal if no gpus installed)\u001b[0m\n",
      "\u001b[34m[2024-09-23:20:07:10:INFO] Invoking user training script.\u001b[0m\n",
      "\u001b[34m[2024-09-23:20:07:10:INFO] Module script does not provide a setup.py. \u001b[0m\n",
      "\u001b[34mGenerating setup.py\u001b[0m\n",
      "\u001b[34m[2024-09-23:20:07:10:INFO] Generating setup.cfg\u001b[0m\n",
      "\u001b[34m[2024-09-23:20:07:10:INFO] Generating MANIFEST.in\u001b[0m\n",
      "\u001b[34m[2024-09-23:20:07:10:INFO] Installing module with the following command:\u001b[0m\n",
      "\u001b[34m/miniconda3/bin/python3 -m pip install . \u001b[0m\n",
      "\u001b[34mProcessing /opt/ml/code\n",
      "  Preparing metadata (setup.py): started\n",
      "  Preparing metadata (setup.py): finished with status 'done'\u001b[0m\n",
      "\u001b[34mBuilding wheels for collected packages: script\n",
      "  Building wheel for script (setup.py): started\n",
      "  Building wheel for script (setup.py): finished with status 'done'\n",
      "  Created wheel for script: filename=script-1.0.0-py2.py3-none-any.whl size=5442 sha256=aa622b1972763c9874c50c5abdbb5b2f137bfc1538046646f820cb6cd19ed8e5\n",
      "  Stored in directory: /home/model-server/tmp/pip-ephem-wheel-cache-a59bf6jm/wheels/f3/75/57/158162e9eab7af12b5c338c279b3a81f103b89d74eeb911c00\u001b[0m\n",
      "\u001b[34mSuccessfully built script\u001b[0m\n",
      "\u001b[34mInstalling collected packages: script\u001b[0m\n",
      "\u001b[34mSuccessfully installed script-1.0.0\u001b[0m\n",
      "\u001b[34mWARNING: Running pip as the 'root' user can result in broken permissions and conflicting behaviour with the system package manager. It is recommended to use a virtual environment instead: https://pip.pypa.io/warnings/venv\u001b[0m\n",
      "\u001b[34m[2024-09-23:20:07:12:INFO] No GPUs detected (normal if no gpus installed)\u001b[0m\n",
      "\u001b[34m[2024-09-23:20:07:12:INFO] Invoking user script\u001b[0m\n",
      "\u001b[34mTraining Env:\u001b[0m\n",
      "\u001b[34m{\n",
      "    \"additional_framework_parameters\": {},\n",
      "    \"channel_input_dirs\": {\n",
      "        \"test\": \"/opt/ml/input/data/test\",\n",
      "        \"train\": \"/opt/ml/input/data/train\"\n",
      "    },\n",
      "    \"current_host\": \"algo-1\",\n",
      "    \"framework_module\": \"sagemaker_xgboost_container.training:main\",\n",
      "    \"hosts\": [\n",
      "        \"algo-1\"\n",
      "    ],\n",
      "    \"hyperparameters\": {\n",
      "        \"learning-rate\": 0.1,\n",
      "        \"max-depth\": 3,\n",
      "        \"n-estimators\": 100\n",
      "    },\n",
      "    \"input_config_dir\": \"/opt/ml/input/config\",\n",
      "    \"input_data_config\": {\n",
      "        \"test\": {\n",
      "            \"TrainingInputMode\": \"File\",\n",
      "            \"S3DistributionType\": \"FullyReplicated\",\n",
      "            \"RecordWrapperType\": \"None\"\n",
      "        },\n",
      "        \"train\": {\n",
      "            \"TrainingInputMode\": \"File\",\n",
      "            \"S3DistributionType\": \"FullyReplicated\",\n",
      "            \"RecordWrapperType\": \"None\"\n",
      "        }\n",
      "    },\n",
      "    \"input_dir\": \"/opt/ml/input\",\n",
      "    \"is_master\": true,\n",
      "    \"job_name\": \"xgb-training-job-2024-09-23-20-05-13-292\",\n",
      "    \"log_level\": 20,\n",
      "    \"master_hostname\": \"algo-1\",\n",
      "    \"model_dir\": \"/opt/ml/model\",\n",
      "    \"module_dir\": \"s3://sagemaker-eu-west-3-024848443248/xgb-training-job-2024-09-23-20-05-13-292/source/sourcedir.tar.gz\",\n",
      "    \"module_name\": \"script\",\n",
      "    \"network_interface_name\": \"eth0\",\n",
      "    \"num_cpus\": 4,\n",
      "    \"num_gpus\": 0,\n",
      "    \"output_data_dir\": \"/opt/ml/output/data\",\n",
      "    \"output_dir\": \"/opt/ml/output\",\n",
      "    \"output_intermediate_dir\": \"/opt/ml/output/intermediate\",\n",
      "    \"resource_config\": {\n",
      "        \"current_host\": \"algo-1\",\n",
      "        \"current_instance_type\": \"ml.c5.xlarge\",\n",
      "        \"current_group_name\": \"homogeneousCluster\",\n",
      "        \"hosts\": [\n",
      "            \"algo-1\"\n",
      "        ],\n",
      "        \"instance_groups\": [\n",
      "            {\n",
      "                \"instance_group_name\": \"homogeneousCluster\",\n",
      "                \"instance_type\": \"ml.c5.xlarge\",\n",
      "                \"hosts\": [\n",
      "                    \"algo-1\"\n",
      "                ]\n",
      "            }\n",
      "        ],\n",
      "        \"network_interface_name\": \"eth0\"\n",
      "    },\n",
      "    \"user_entry_point\": \"script.py\"\u001b[0m\n",
      "\u001b[34m}\u001b[0m\n",
      "\u001b[34mEnvironment variables:\u001b[0m\n",
      "\u001b[34mSM_HOSTS=[\"algo-1\"]\u001b[0m\n",
      "\u001b[34mSM_NETWORK_INTERFACE_NAME=eth0\u001b[0m\n",
      "\u001b[34mSM_HPS={\"learning-rate\":0.1,\"max-depth\":3,\"n-estimators\":100}\u001b[0m\n",
      "\u001b[34mSM_USER_ENTRY_POINT=script.py\u001b[0m\n",
      "\u001b[34mSM_FRAMEWORK_PARAMS={}\u001b[0m\n",
      "\u001b[34mSM_RESOURCE_CONFIG={\"current_group_name\":\"homogeneousCluster\",\"current_host\":\"algo-1\",\"current_instance_type\":\"ml.c5.xlarge\",\"hosts\":[\"algo-1\"],\"instance_groups\":[{\"hosts\":[\"algo-1\"],\"instance_group_name\":\"homogeneousCluster\",\"instance_type\":\"ml.c5.xlarge\"}],\"network_interface_name\":\"eth0\"}\u001b[0m\n",
      "\u001b[34mSM_INPUT_DATA_CONFIG={\"test\":{\"RecordWrapperType\":\"None\",\"S3DistributionType\":\"FullyReplicated\",\"TrainingInputMode\":\"File\"},\"train\":{\"RecordWrapperType\":\"None\",\"S3DistributionType\":\"FullyReplicated\",\"TrainingInputMode\":\"File\"}}\u001b[0m\n",
      "\u001b[34mSM_OUTPUT_DATA_DIR=/opt/ml/output/data\u001b[0m\n",
      "\u001b[34mSM_CHANNELS=[\"test\",\"train\"]\u001b[0m\n",
      "\u001b[34mSM_CURRENT_HOST=algo-1\u001b[0m\n",
      "\u001b[34mSM_MODULE_NAME=script\u001b[0m\n",
      "\u001b[34mSM_LOG_LEVEL=20\u001b[0m\n",
      "\u001b[34mSM_FRAMEWORK_MODULE=sagemaker_xgboost_container.training:main\u001b[0m\n",
      "\u001b[34mSM_INPUT_DIR=/opt/ml/input\u001b[0m\n",
      "\u001b[34mSM_INPUT_CONFIG_DIR=/opt/ml/input/config\u001b[0m\n",
      "\u001b[34mSM_OUTPUT_DIR=/opt/ml/output\u001b[0m\n",
      "\u001b[34mSM_NUM_CPUS=4\u001b[0m\n",
      "\u001b[34mSM_NUM_GPUS=0\u001b[0m\n",
      "\u001b[34mSM_MODEL_DIR=/opt/ml/model\u001b[0m\n",
      "\u001b[34mSM_MODULE_DIR=s3://sagemaker-eu-west-3-024848443248/xgb-training-job-2024-09-23-20-05-13-292/source/sourcedir.tar.gz\u001b[0m\n",
      "\u001b[34mSM_TRAINING_ENV={\"additional_framework_parameters\":{},\"channel_input_dirs\":{\"test\":\"/opt/ml/input/data/test\",\"train\":\"/opt/ml/input/data/train\"},\"current_host\":\"algo-1\",\"framework_module\":\"sagemaker_xgboost_container.training:main\",\"hosts\":[\"algo-1\"],\"hyperparameters\":{\"learning-rate\":0.1,\"max-depth\":3,\"n-estimators\":100},\"input_config_dir\":\"/opt/ml/input/config\",\"input_data_config\":{\"test\":{\"RecordWrapperType\":\"None\",\"S3DistributionType\":\"FullyReplicated\",\"TrainingInputMode\":\"File\"},\"train\":{\"RecordWrapperType\":\"None\",\"S3DistributionType\":\"FullyReplicated\",\"TrainingInputMode\":\"File\"}},\"input_dir\":\"/opt/ml/input\",\"is_master\":true,\"job_name\":\"xgb-training-job-2024-09-23-20-05-13-292\",\"log_level\":20,\"master_hostname\":\"algo-1\",\"model_dir\":\"/opt/ml/model\",\"module_dir\":\"s3://sagemaker-eu-west-3-024848443248/xgb-training-job-2024-09-23-20-05-13-292/source/sourcedir.tar.gz\",\"module_name\":\"script\",\"network_interface_name\":\"eth0\",\"num_cpus\":4,\"num_gpus\":0,\"output_data_dir\":\"/opt/ml/output/data\",\"output_dir\":\"/opt/ml/output\",\"output_intermediate_dir\":\"/opt/ml/output/intermediate\",\"resource_config\":{\"current_group_name\":\"homogeneousCluster\",\"current_host\":\"algo-1\",\"current_instance_type\":\"ml.c5.xlarge\",\"hosts\":[\"algo-1\"],\"instance_groups\":[{\"hosts\":[\"algo-1\"],\"instance_group_name\":\"homogeneousCluster\",\"instance_type\":\"ml.c5.xlarge\"}],\"network_interface_name\":\"eth0\"},\"user_entry_point\":\"script.py\"}\u001b[0m\n",
      "\u001b[34mSM_USER_ARGS=[\"--learning-rate\",\"0.1\",\"--max-depth\",\"3\",\"--n-estimators\",\"100\"]\u001b[0m\n",
      "\u001b[34mSM_OUTPUT_INTERMEDIATE_DIR=/opt/ml/output/intermediate\u001b[0m\n",
      "\u001b[34mSM_CHANNEL_TEST=/opt/ml/input/data/test\u001b[0m\n",
      "\u001b[34mSM_CHANNEL_TRAIN=/opt/ml/input/data/train\u001b[0m\n",
      "\u001b[34mSM_HP_LEARNING-RATE=0.1\u001b[0m\n",
      "\u001b[34mSM_HP_MAX-DEPTH=3\u001b[0m\n",
      "\u001b[34mSM_HP_N-ESTIMATORS=100\u001b[0m\n",
      "\u001b[34mPYTHONPATH=/miniconda3/bin:/:/miniconda3/lib/python/site-packages/xgboost/dmlc-core/tracker:/miniconda3/lib/python38.zip:/miniconda3/lib/python3.8:/miniconda3/lib/python3.8/lib-dynload:/miniconda3/lib/python3.8/site-packages\u001b[0m\n",
      "\u001b[34mInvoking script with the following command:\u001b[0m\n",
      "\u001b[34m/miniconda3/bin/python3 -m script --learning-rate 0.1 --max-depth 3 --n-estimators 100\u001b[0m\n",
      "\u001b[34m/miniconda3/lib/python3.8/site-packages/xgboost/compat.py:36: FutureWarning: pandas.Int64Index is deprecated and will be removed from pandas in a future version. Use pandas.Index with the appropriate dtype instead.\n",
      "  from pandas import MultiIndex, Int64Index\u001b[0m\n",
      "\u001b[34mExtracting arguments\u001b[0m\n",
      "\u001b[34mReading data\u001b[0m\n",
      "\u001b[34mBuilding training and testing datasets\u001b[0m\n",
      "\u001b[34mTraining model\u001b[0m\n",
      "\u001b[34m/miniconda3/lib/python3.8/site-packages/xgboost/data.py:262: FutureWarning: pandas.Int64Index is deprecated and will be removed from pandas in a future version. Use pandas.Index with the appropriate dtype instead.\n",
      "  elif isinstance(data.columns, (pd.Int64Index, pd.RangeIndex)):\u001b[0m\n",
      "\u001b[34mValidating model\u001b[0m\n",
      "\u001b[34m/miniconda3/lib/python3.8/site-packages/xgboost/data.py:262: FutureWarning: pandas.Int64Index is deprecated and will be removed from pandas in a future version. Use pandas.Index with the appropriate dtype instead.\n",
      "  elif isinstance(data.columns, (pd.Int64Index, pd.RangeIndex)):\u001b[0m\n",
      "\u001b[34m/miniconda3/lib/python3.8/site-packages/xgboost/data.py:262: FutureWarning: pandas.Int64Index is deprecated and will be removed from pandas in a future version. Use pandas.Index with the appropriate dtype instead.\n",
      "  elif isinstance(data.columns, (pd.Int64Index, pd.RangeIndex)):\u001b[0m\n",
      "\u001b[34mTrain R2: 0.943\u001b[0m\n",
      "\u001b[34mTest R2: 0.910\u001b[0m\n",
      "\u001b[34mModel persisted at /opt/ml/model/model.joblib\u001b[0m\n",
      "\n",
      "2024-09-23 20:07:27 Uploading - Uploading generated training model\n",
      "2024-09-23 20:07:27 Completed - Training job completed\n",
      "Training seconds: 84\n",
      "Billable seconds: 84\n"
     ]
    }
   ],
   "source": [
    "xgboost_estimator.fit({\"train\": trainpath, \"test\": testpath}, wait=True)"
   ]
  },
  {
   "cell_type": "code",
   "execution_count": 29,
   "id": "77816587-28ae-4e20-a90f-8bbd15bf2be0",
   "metadata": {},
   "outputs": [
    {
     "name": "stdout",
     "output_type": "stream",
     "text": [
      "Model artifact persisted at s3://sagemaker-eu-west-3-024848443248/xgb-training-job-2024-09-23-20-05-13-292/output/model.tar.gz\n"
     ]
    }
   ],
   "source": [
    "artifact = sm_boto3.describe_training_job(\n",
    "   TrainingJobName=xgboost_estimator.latest_training_job.name\n",
    ")[\"ModelArtifacts\"][\"S3ModelArtifacts\"]\n",
    "print(\"Model artifact persisted at \" + artifact)"
   ]
  },
  {
   "cell_type": "code",
   "execution_count": 30,
   "id": "99425ac3-7822-4162-8b00-a8f0f7a4b0e1",
   "metadata": {},
   "outputs": [],
   "source": [
    "from sagemaker.xgboost.model import XGBoostModel\n",
    "from sagemaker import get_execution_role\n",
    "\n",
    "artifact_path = \"s3://sagemaker-eu-west-3-024848443248/xgb-training-job-2024-09-08-15-48-13-359/output/model.tar.gz\"\n",
    "\n",
    "model = XGBoostModel(\n",
    "    model_data=artifact_path,  \n",
    "    role=get_execution_role(), \n",
    "    entry_point=\"script.py\", \n",
    "    framework_version=\"1.5-1\"  \n",
    ")"
   ]
  },
  {
   "cell_type": "code",
   "execution_count": 31,
   "id": "a63501bb-7ded-492f-9f04-06fb07531277",
   "metadata": {},
   "outputs": [
    {
     "name": "stderr",
     "output_type": "stream",
     "text": [
      "INFO:sagemaker.image_uris:Ignoring unnecessary instance type: ml.c5.xlarge.\n",
      "INFO:sagemaker:Creating model with name: sagemaker-xgboost-2024-09-23-20-09-50-199\n",
      "INFO:sagemaker:Creating endpoint-config with name sagemaker-xgboost-2024-09-23-20-09-50-911\n",
      "INFO:sagemaker:Creating endpoint with name sagemaker-xgboost-2024-09-23-20-09-50-911\n"
     ]
    },
    {
     "name": "stdout",
     "output_type": "stream",
     "text": [
      "-----!"
     ]
    }
   ],
   "source": [
    "predictor = model.deploy(\n",
    "    initial_instance_count=1,  # Start with 1 instance\n",
    "    instance_type='ml.c5.xlarge'  # Select the appropriate instance type\n",
    ")"
   ]
  },
  {
   "cell_type": "code",
   "execution_count": 32,
   "id": "2d109dc8-4307-4c27-8046-9650ef80dbc5",
   "metadata": {},
   "outputs": [
    {
     "data": {
      "text/plain": [
       "<sagemaker.xgboost.model.XGBoostPredictor at 0x7f7508f96770>"
      ]
     },
     "execution_count": 32,
     "metadata": {},
     "output_type": "execute_result"
    }
   ],
   "source": [
    "predictor"
   ]
  },
  {
   "cell_type": "code",
   "execution_count": 33,
   "id": "3f8ca807-6546-4c71-bb06-272e176380eb",
   "metadata": {},
   "outputs": [],
   "source": [
    "import pandas as pd\n",
    "import numpy as np\n",
    "\n",
    "new_data = pd.DataFrame({\n",
    "    'heart_rate': [88],\n",
    "    'body_temperature': [37.3],\n",
    "    'oxygen_saturation': [77],\n",
    "})\n",
    "\n",
    "payload = new_data.to_csv(header=False, index=False).strip()"
   ]
  },
  {
   "cell_type": "code",
   "execution_count": 34,
   "id": "2fb51bda-3972-454b-aa91-9a874e181b1f",
   "metadata": {},
   "outputs": [],
   "source": [
    "json_data = new_data.values.tolist()\n"
   ]
  },
  {
   "cell_type": "code",
   "execution_count": 35,
   "id": "9fe33b5f-a0f7-4403-b1e7-f32ef2b84356",
   "metadata": {},
   "outputs": [
    {
     "name": "stdout",
     "output_type": "stream",
     "text": [
      "JSON formatted input:\n",
      " [[88.0, 37.3, 77.0]]\n"
     ]
    }
   ],
   "source": [
    "import json\n",
    "\n",
    "json_payload = json.dumps(json_data)\n",
    "print(\"JSON formatted input:\\n\", json_payload)\n"
   ]
  },
  {
   "cell_type": "code",
   "execution_count": 36,
   "id": "acbac367-b9c4-4dea-847e-722719dc9811",
   "metadata": {},
   "outputs": [
    {
     "name": "stdout",
     "output_type": "stream",
     "text": [
      "<class 'str'>\n"
     ]
    }
   ],
   "source": [
    "print(type(json_payload))"
   ]
  },
  {
   "cell_type": "code",
   "execution_count": 37,
   "id": "528bee23-1ec7-4b2d-8558-4e83118e32b2",
   "metadata": {},
   "outputs": [
    {
     "name": "stdout",
     "output_type": "stream",
     "text": [
      "Prediction result: [['13.275839']]\n"
     ]
    }
   ],
   "source": [
    "result = predictor.predict(json_payload, initial_args={'ContentType': 'application/json'})\n",
    "\n",
    "print(\"Prediction result:\", result)\n"
   ]
  },
  {
   "cell_type": "code",
   "execution_count": 38,
   "id": "5c101604-7ef1-4623-9b30-aaed61b9868b",
   "metadata": {},
   "outputs": [],
   "source": [
    "from pandas import MultiIndex"
   ]
  },
  {
   "cell_type": "code",
   "execution_count": 39,
   "id": "8975b845-a3f4-4f58-b5c6-bac8b8952337",
   "metadata": {},
   "outputs": [],
   "source": [
    "import json"
   ]
  },
  {
   "cell_type": "code",
   "execution_count": 43,
   "id": "ab65e57c-8be5-4e5f-a9ec-3efab25aa6dc",
   "metadata": {},
   "outputs": [
    {
     "name": "stdout",
     "output_type": "stream",
     "text": [
      "[13.719712257385254]\n"
     ]
    }
   ],
   "source": [
    "import boto3\n",
    "import numpy as np\n",
    "from io import BytesIO\n",
    "\n",
    "client = boto3.client('runtime.sagemaker')\n",
    "\n",
    "test_data = np.array([[80, 36.5, 95]])  \n",
    "\n",
    "buffer = BytesIO()\n",
    "np.save(buffer, test_data)  \n",
    "buffer.seek(0)  \n",
    "\n",
    "response = client.invoke_endpoint(\n",
    "    EndpointName='sagemaker-xgboost-2024-09-23-20-09-50-911',  \n",
    "    Body=buffer.getvalue(),  \n",
    "    ContentType='application/x-npy'  \n",
    ")\n",
    "\n",
    "response_body = response['Body'].read().decode(\"utf-8\")\n",
    "print(response_body)\n"
   ]
  },
  {
   "cell_type": "code",
   "execution_count": null,
   "id": "3c2034de-4de1-40c8-8a6f-3990d76ac04f",
   "metadata": {},
   "outputs": [],
   "source": []
  }
 ],
 "metadata": {
  "kernelspec": {
   "display_name": "Python 3 (ipykernel)",
   "language": "python",
   "name": "python3"
  },
  "language_info": {
   "codemirror_mode": {
    "name": "ipython",
    "version": 3
   },
   "file_extension": ".py",
   "mimetype": "text/x-python",
   "name": "python",
   "nbconvert_exporter": "python",
   "pygments_lexer": "ipython3",
   "version": "3.10.14"
  }
 },
 "nbformat": 4,
 "nbformat_minor": 5
}
