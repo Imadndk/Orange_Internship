{
 "cells": [
  {
   "cell_type": "code",
   "execution_count": 1,
   "id": "8bfd18eb-cf4f-469c-8bd3-501ff8fc8c0a",
   "metadata": {},
   "outputs": [
    {
     "name": "stdout",
     "output_type": "stream",
     "text": [
      "sagemaker.config INFO - Not applying SDK defaults from location: /etc/xdg/sagemaker/config.yaml\n",
      "sagemaker.config INFO - Not applying SDK defaults from location: /home/sagemaker-user/.config/sagemaker/config.yaml\n",
      "bucket: sagemaker-eu-west-3-024848443248\n"
     ]
    }
   ],
   "source": [
    "import os\n",
    "import boto3\n",
    "import re\n",
    "import json\n",
    "import pandas as pd\n",
    "import numpy as np\n",
    "import sagemaker\n",
    "from sagemaker import get_execution_role\n",
    "from sagemaker.sklearn.model import SKLearnModel\n",
    "from sklearn.model_selection import train_test_split\n",
    "\n",
    "region = boto3.Session().region_name\n",
    "sm_boto3 = boto3.client(\"sagemaker\")\n",
    "\n",
    "role = get_execution_role()\n",
    "sess=sagemaker.Session()\n",
    "bucket = sagemaker.Session().default_bucket()\n",
    "prefix = \"sagemaker/ModelBloodPressure\"\n",
    "\n",
    "print(f\"bucket: {bucket}\")"
   ]
  },
  {
   "cell_type": "markdown",
   "id": "6d3a50b6-c075-4fae-b0b8-d0b229d27731",
   "metadata": {},
   "source": [
    "## Import Library and Dataset"
   ]
  },
  {
   "cell_type": "code",
   "execution_count": 2,
   "id": "6c4ac2e8-ff80-4b0c-87cb-f9b9d41b5fda",
   "metadata": {},
   "outputs": [],
   "source": [
    "import numpy as np\n",
    "import pandas as pd\n",
    "from sklearn.model_selection import train_test_split\n",
    "from sklearn.metrics import accuracy_score\n",
    "import matplotlib.pyplot as plt\n",
    "import matplotlib.pylab as pylab\n",
    "from sklearn.decomposition import PCA\n",
    "from sklearn.pipeline import Pipeline\n",
    "from sklearn.tree import DecisionTreeRegressor\n",
    "from sklearn.ensemble import RandomForestRegressor\n",
    "from sklearn.linear_model import LinearRegression\n",
    "from xgboost import XGBRegressor\n",
    "from sklearn.neighbors import KNeighborsRegressor\n",
    "from sklearn.model_selection import cross_val_score\n",
    "from sklearn import metrics\n",
    "from sklearn.metrics import mean_squared_error\n",
    "from sklearn.metrics import r2_score\n",
    "\n",
    "\n"
   ]
  },
  {
   "cell_type": "code",
   "execution_count": 3,
   "id": "416b1daf-2ae6-4df6-a5d6-a02adf4bdc30",
   "metadata": {},
   "outputs": [],
   "source": [
    "df= pd.read_csv('blood_pressure_prediction_dataset.csv')\n"
   ]
  },
  {
   "cell_type": "code",
   "execution_count": 4,
   "id": "98f46ca5-1c07-4dad-b6e1-7039e0314393",
   "metadata": {},
   "outputs": [
    {
     "data": {
      "text/html": [
       "<div>\n",
       "<style scoped>\n",
       "    .dataframe tbody tr th:only-of-type {\n",
       "        vertical-align: middle;\n",
       "    }\n",
       "\n",
       "    .dataframe tbody tr th {\n",
       "        vertical-align: top;\n",
       "    }\n",
       "\n",
       "    .dataframe thead th {\n",
       "        text-align: right;\n",
       "    }\n",
       "</style>\n",
       "<table border=\"1\" class=\"dataframe\">\n",
       "  <thead>\n",
       "    <tr style=\"text-align: right;\">\n",
       "      <th></th>\n",
       "      <th>heart_rate</th>\n",
       "      <th>body_temperature</th>\n",
       "      <th>oxygen_saturation</th>\n",
       "      <th>systolic_bp</th>\n",
       "      <th>diastolic_bp</th>\n",
       "    </tr>\n",
       "  </thead>\n",
       "  <tbody>\n",
       "    <tr>\n",
       "      <th>0</th>\n",
       "      <td>92.634938</td>\n",
       "      <td>36.937121</td>\n",
       "      <td>100.000000</td>\n",
       "      <td>132.901502</td>\n",
       "      <td>97.183033</td>\n",
       "    </tr>\n",
       "    <tr>\n",
       "      <th>1</th>\n",
       "      <td>48.590293</td>\n",
       "      <td>36.166390</td>\n",
       "      <td>85.808770</td>\n",
       "      <td>92.715690</td>\n",
       "      <td>77.088107</td>\n",
       "    </tr>\n",
       "    <tr>\n",
       "      <th>2</th>\n",
       "      <td>115.028821</td>\n",
       "      <td>36.897891</td>\n",
       "      <td>89.449863</td>\n",
       "      <td>129.637104</td>\n",
       "      <td>83.614922</td>\n",
       "    </tr>\n",
       "    <tr>\n",
       "      <th>3</th>\n",
       "      <td>79.530937</td>\n",
       "      <td>37.500000</td>\n",
       "      <td>90.819953</td>\n",
       "      <td>130.044477</td>\n",
       "      <td>88.213206</td>\n",
       "    </tr>\n",
       "    <tr>\n",
       "      <th>4</th>\n",
       "      <td>55.463990</td>\n",
       "      <td>37.225860</td>\n",
       "      <td>81.925893</td>\n",
       "      <td>109.127010</td>\n",
       "      <td>74.569882</td>\n",
       "    </tr>\n",
       "  </tbody>\n",
       "</table>\n",
       "</div>"
      ],
      "text/plain": [
       "   heart_rate  body_temperature  oxygen_saturation  systolic_bp  diastolic_bp\n",
       "0   92.634938         36.937121         100.000000   132.901502     97.183033\n",
       "1   48.590293         36.166390          85.808770    92.715690     77.088107\n",
       "2  115.028821         36.897891          89.449863   129.637104     83.614922\n",
       "3   79.530937         37.500000          90.819953   130.044477     88.213206\n",
       "4   55.463990         37.225860          81.925893   109.127010     74.569882"
      ]
     },
     "execution_count": 4,
     "metadata": {},
     "output_type": "execute_result"
    }
   ],
   "source": [
    "df.head()"
   ]
  },
  {
   "cell_type": "markdown",
   "id": "013ab6c7-c4f7-48f2-8c3d-09bce02f1438",
   "metadata": {},
   "source": [
    "## Exploratory data analysis"
   ]
  },
  {
   "cell_type": "code",
   "execution_count": 5,
   "id": "5f26c7e2-af67-435a-82e4-02429700cd03",
   "metadata": {},
   "outputs": [
    {
     "data": {
      "text/plain": [
       "1"
      ]
     },
     "execution_count": 5,
     "metadata": {},
     "output_type": "execute_result"
    }
   ],
   "source": [
    "df.duplicated().sum()\n"
   ]
  },
  {
   "cell_type": "code",
   "execution_count": 6,
   "id": "ed18480f-cfcc-4265-be7d-1b74e7519e68",
   "metadata": {},
   "outputs": [
    {
     "name": "stdout",
     "output_type": "stream",
     "text": [
      "<class 'pandas.core.frame.DataFrame'>\n",
      "RangeIndex: 1000 entries, 0 to 999\n",
      "Data columns (total 5 columns):\n",
      " #   Column             Non-Null Count  Dtype  \n",
      "---  ------             --------------  -----  \n",
      " 0   heart_rate         1000 non-null   float64\n",
      " 1   body_temperature   1000 non-null   float64\n",
      " 2   oxygen_saturation  1000 non-null   float64\n",
      " 3   systolic_bp        1000 non-null   float64\n",
      " 4   diastolic_bp       1000 non-null   float64\n",
      "dtypes: float64(5)\n",
      "memory usage: 39.2 KB\n"
     ]
    }
   ],
   "source": [
    "df.info()"
   ]
  },
  {
   "cell_type": "code",
   "execution_count": 7,
   "id": "c50090db-dbb8-4c7c-83d4-de5e1c36d53d",
   "metadata": {},
   "outputs": [
    {
     "data": {
      "text/plain": [
       "heart_rate           0\n",
       "body_temperature     0\n",
       "oxygen_saturation    0\n",
       "systolic_bp          0\n",
       "diastolic_bp         0\n",
       "dtype: int64"
      ]
     },
     "execution_count": 7,
     "metadata": {},
     "output_type": "execute_result"
    }
   ],
   "source": [
    "df.isnull().sum()"
   ]
  },
  {
   "cell_type": "code",
   "execution_count": 8,
   "id": "dd6170e4-5003-44fb-81ef-5ac467d00ed3",
   "metadata": {},
   "outputs": [
    {
     "data": {
      "text/html": [
       "<div>\n",
       "<style scoped>\n",
       "    .dataframe tbody tr th:only-of-type {\n",
       "        vertical-align: middle;\n",
       "    }\n",
       "\n",
       "    .dataframe tbody tr th {\n",
       "        vertical-align: top;\n",
       "    }\n",
       "\n",
       "    .dataframe thead th {\n",
       "        text-align: right;\n",
       "    }\n",
       "</style>\n",
       "<table border=\"1\" class=\"dataframe\">\n",
       "  <thead>\n",
       "    <tr style=\"text-align: right;\">\n",
       "      <th></th>\n",
       "      <th>heart_rate</th>\n",
       "      <th>body_temperature</th>\n",
       "      <th>oxygen_saturation</th>\n",
       "      <th>systolic_bp</th>\n",
       "      <th>diastolic_bp</th>\n",
       "    </tr>\n",
       "  </thead>\n",
       "  <tbody>\n",
       "    <tr>\n",
       "      <th>count</th>\n",
       "      <td>1000.000000</td>\n",
       "      <td>1000.000000</td>\n",
       "      <td>1000.000000</td>\n",
       "      <td>1000.000000</td>\n",
       "      <td>1000.000000</td>\n",
       "    </tr>\n",
       "    <tr>\n",
       "      <th>mean</th>\n",
       "      <td>79.842176</td>\n",
       "      <td>36.964337</td>\n",
       "      <td>95.272186</td>\n",
       "      <td>125.259808</td>\n",
       "      <td>85.158519</td>\n",
       "    </tr>\n",
       "    <tr>\n",
       "      <th>std</th>\n",
       "      <td>19.180861</td>\n",
       "      <td>0.421716</td>\n",
       "      <td>6.339241</td>\n",
       "      <td>14.534694</td>\n",
       "      <td>9.809933</td>\n",
       "    </tr>\n",
       "    <tr>\n",
       "      <th>min</th>\n",
       "      <td>40.000000</td>\n",
       "      <td>36.000000</td>\n",
       "      <td>59.946308</td>\n",
       "      <td>90.000000</td>\n",
       "      <td>60.000000</td>\n",
       "    </tr>\n",
       "    <tr>\n",
       "      <th>25%</th>\n",
       "      <td>66.542222</td>\n",
       "      <td>36.658576</td>\n",
       "      <td>91.466964</td>\n",
       "      <td>115.432555</td>\n",
       "      <td>78.435703</td>\n",
       "    </tr>\n",
       "    <tr>\n",
       "      <th>50%</th>\n",
       "      <td>80.599156</td>\n",
       "      <td>37.003479</td>\n",
       "      <td>98.686481</td>\n",
       "      <td>124.981266</td>\n",
       "      <td>85.243901</td>\n",
       "    </tr>\n",
       "    <tr>\n",
       "      <th>75%</th>\n",
       "      <td>93.189843</td>\n",
       "      <td>37.358042</td>\n",
       "      <td>100.000000</td>\n",
       "      <td>135.186605</td>\n",
       "      <td>91.613573</td>\n",
       "    </tr>\n",
       "    <tr>\n",
       "      <th>max</th>\n",
       "      <td>120.000000</td>\n",
       "      <td>37.500000</td>\n",
       "      <td>100.000000</td>\n",
       "      <td>160.000000</td>\n",
       "      <td>110.000000</td>\n",
       "    </tr>\n",
       "  </tbody>\n",
       "</table>\n",
       "</div>"
      ],
      "text/plain": [
       "        heart_rate  body_temperature  oxygen_saturation  systolic_bp  \\\n",
       "count  1000.000000       1000.000000        1000.000000  1000.000000   \n",
       "mean     79.842176         36.964337          95.272186   125.259808   \n",
       "std      19.180861          0.421716           6.339241    14.534694   \n",
       "min      40.000000         36.000000          59.946308    90.000000   \n",
       "25%      66.542222         36.658576          91.466964   115.432555   \n",
       "50%      80.599156         37.003479          98.686481   124.981266   \n",
       "75%      93.189843         37.358042         100.000000   135.186605   \n",
       "max     120.000000         37.500000         100.000000   160.000000   \n",
       "\n",
       "       diastolic_bp  \n",
       "count   1000.000000  \n",
       "mean      85.158519  \n",
       "std        9.809933  \n",
       "min       60.000000  \n",
       "25%       78.435703  \n",
       "50%       85.243901  \n",
       "75%       91.613573  \n",
       "max      110.000000  "
      ]
     },
     "execution_count": 8,
     "metadata": {},
     "output_type": "execute_result"
    }
   ],
   "source": [
    "df.describe()"
   ]
  },
  {
   "cell_type": "code",
   "execution_count": 9,
   "id": "aa3f2982-b208-4e90-a83e-18ac68440192",
   "metadata": {},
   "outputs": [
    {
     "data": {
      "text/plain": [
       "heart_rate           0\n",
       "body_temperature     0\n",
       "oxygen_saturation    0\n",
       "systolic_bp          0\n",
       "diastolic_bp         0\n",
       "dtype: int64"
      ]
     },
     "execution_count": 9,
     "metadata": {},
     "output_type": "execute_result"
    }
   ],
   "source": [
    "df.isnull().sum()"
   ]
  },
  {
   "cell_type": "markdown",
   "id": "10107e69-a452-44ae-a8d7-69646439f69a",
   "metadata": {},
   "source": [
    "## Data Preprocessing"
   ]
  },
  {
   "cell_type": "code",
   "execution_count": 10,
   "id": "dcb7029f-38ac-4b39-94a9-14431f5fb647",
   "metadata": {},
   "outputs": [],
   "source": [
    "def remove_outliers(df1, column):\n",
    "    Q1 = df1[column].quantile(0.25)\n",
    "    Q3 = df1[column].quantile(0.75)\n",
    "    IQR = Q3 - Q1\n",
    "    lower_bound = Q1 - 1.5 * IQR\n",
    "    upper_bound = Q3 + 1.5 * IQR\n",
    "    return df1[(df1[column] >= lower_bound) & (df1[column] <= upper_bound)]\n",
    "\n",
    "for col in df.columns:\n",
    "    df = remove_outliers(df, col)\n",
    "\n",
    "plt.show()\n",
    "\n"
   ]
  },
  {
   "cell_type": "markdown",
   "id": "ea8d8ab0-240f-4a20-a0de-10043bbcb2ae",
   "metadata": {},
   "source": [
    "## Train Test split & Model building\n"
   ]
  },
  {
   "cell_type": "code",
   "execution_count": 11,
   "id": "a9ff5b2d-ba6b-4a59-ae5e-a69284b26d74",
   "metadata": {},
   "outputs": [],
   "source": [
    "from xgboost import XGBRegressor\n",
    "from sklearn.multioutput import MultiOutputRegressor\n",
    "from sklearn.model_selection import train_test_split\n",
    "from sklearn.metrics import mean_squared_error\n",
    "from sklearn.preprocessing import StandardScaler\n",
    "\n",
    "X = df.drop(columns=['systolic_bp','diastolic_bp'],axis=1)\n",
    "y = df[['systolic_bp','diastolic_bp']]\n",
    "X_train, X_test, y_train, y_test = train_test_split(X, y, test_size=0.2, random_state=42)\n"
   ]
  },
  {
   "cell_type": "markdown",
   "id": "e08bb58b-1472-40d8-86af-93f9db29e60f",
   "metadata": {},
   "source": [
    "## Model LinearRegression evaluation\n"
   ]
  },
  {
   "cell_type": "code",
   "execution_count": 12,
   "id": "3c46b159-8c78-4cd2-b24c-99aa51498542",
   "metadata": {},
   "outputs": [
    {
     "name": "stdout",
     "output_type": "stream",
     "text": [
      "0.8372988976414613\n"
     ]
    }
   ],
   "source": [
    "\n",
    "X_train,X_test,y_train,y_test = train_test_split(X,y,test_size=0.23,random_state=23)\n",
    "\n",
    "plr = LinearRegression().fit(X_train,y_train)\n",
    "\n",
    "y_train_pred = plr.predict(X_train)\n",
    "y_test_pred = plr.predict(X_test)\n",
    "\n",
    "print(plr.score(X_test,y_test))"
   ]
  },
  {
   "cell_type": "code",
   "execution_count": 13,
   "id": "c10f3d34-e191-470d-b76e-f9a3ac2d8c2c",
   "metadata": {},
   "outputs": [
    {
     "name": "stdout",
     "output_type": "stream",
     "text": [
      "[[121.73971767  83.04271456]]\n"
     ]
    },
    {
     "name": "stderr",
     "output_type": "stream",
     "text": [
      "/opt/conda/lib/python3.10/site-packages/sklearn/base.py:493: UserWarning: X does not have valid feature names, but LinearRegression was fitted with feature names\n",
      "  warnings.warn(\n"
     ]
    }
   ],
   "source": [
    "predictions = plr.predict(np.array([[85, 37.0, 88]]))\n",
    "\n",
    "print(predictions)"
   ]
  },
  {
   "cell_type": "markdown",
   "id": "cf11b859-7977-4ca6-9798-eb9382c80b31",
   "metadata": {},
   "source": [
    "## Model linear regression Saving"
   ]
  },
  {
   "cell_type": "code",
   "execution_count": 14,
   "id": "198de009-01d9-48b1-bd7c-058a8094d457",
   "metadata": {},
   "outputs": [
    {
     "data": {
      "text/plain": [
       "['linear_regression.pkl']"
      ]
     },
     "execution_count": 14,
     "metadata": {},
     "output_type": "execute_result"
    }
   ],
   "source": [
    "import joblib\n",
    "joblib.dump(plr, 'linear_regression.pkl')\n"
   ]
  },
  {
   "cell_type": "code",
   "execution_count": 15,
   "id": "04b0c61e-b71d-4715-9ffe-290dc27b163c",
   "metadata": {},
   "outputs": [],
   "source": [
    "trainX= pd.DataFrame(X_train)\n",
    "trainX[['systolic_bp','diastolic_bp']]=y_train\n",
    "testX=pd.DataFrame(X_test)\n",
    "testX[['systolic_bp','diastolic_bp']]=y_test"
   ]
  },
  {
   "cell_type": "code",
   "execution_count": 16,
   "id": "e58148cf-728e-4ae4-ae2f-0391f1305ea5",
   "metadata": {},
   "outputs": [],
   "source": [
    "trainX.to_csv(\"train-V1.csv\",index=False)\n",
    "testX.to_csv(\"test-V1.csv\",index=False)"
   ]
  },
  {
   "cell_type": "code",
   "execution_count": 17,
   "id": "676a8ace-b0ae-480a-9834-372f2c7ac6d7",
   "metadata": {},
   "outputs": [],
   "source": [
    "sk_prefix=\"sagemaker/blood_pressure_regression/skcontainer\"\n",
    "trainpath=sess.upload_data(path=\"train-V1.csv\", bucket=bucket, key_prefix=sk_prefix)\n",
    "testpath=sess.upload_data(path=\"test-V1.csv\",bucket=bucket, key_prefix=sk_prefix)"
   ]
  },
  {
   "cell_type": "code",
   "execution_count": 18,
   "id": "ac52ec45-e1c3-4c2f-ba24-4cdfe10be888",
   "metadata": {},
   "outputs": [
    {
     "name": "stdout",
     "output_type": "stream",
     "text": [
      "s3://sagemaker-eu-west-3-024848443248/sagemaker/blood_pressure_regression/skcontainer/train-V1.csv\n",
      "s3://sagemaker-eu-west-3-024848443248/sagemaker/blood_pressure_regression/skcontainer/test-V1.csv\n"
     ]
    }
   ],
   "source": [
    "print(trainpath)\n",
    "print(testpath)"
   ]
  },
  {
   "cell_type": "code",
   "execution_count": 19,
   "id": "0030a9ae-4908-497c-8b8e-56545081050a",
   "metadata": {},
   "outputs": [],
   "source": [
    "import tarfile\n",
    "\n",
    "with tarfile.open('linear_regression.tar.gz', mode='w:gz') as archive:\n",
    "    archive.add('linear_regression.pkl')"
   ]
  },
  {
   "cell_type": "code",
   "execution_count": 20,
   "id": "f79935db-001a-4317-a54b-6bacfeb12233",
   "metadata": {},
   "outputs": [],
   "source": [
    "fObj = open(\"linear_regression.tar.gz\", \"rb\")\n",
    "key = os.path.join(prefix, \"linear_regression.tar.gz\")\n",
    "boto3.Session().resource(\"s3\").Bucket(bucket).Object(key).upload_fileobj(fObj)"
   ]
  },
  {
   "cell_type": "code",
   "execution_count": 21,
   "id": "786f0554-626d-4fc3-b42f-ce93e854f913",
   "metadata": {},
   "outputs": [
    {
     "name": "stdout",
     "output_type": "stream",
     "text": [
      "model data: s3://sagemaker-eu-west-3-024848443248/sagemaker/ModelBloodPressure/linear_regression.tar.gz\n"
     ]
    }
   ],
   "source": [
    "model_data = \"s3://{}/{}\".format(bucket, key)\n",
    "print(f\"model data: {model_data}\")"
   ]
  },
  {
   "cell_type": "code",
   "execution_count": 22,
   "id": "6b0091ef-c17a-4008-91c9-8c511e1814ab",
   "metadata": {},
   "outputs": [
    {
     "name": "stdout",
     "output_type": "stream",
     "text": [
      "Overwriting script.py\n"
     ]
    }
   ],
   "source": [
    "%%writefile script.py\n",
    "import json\n",
    "import numpy as np\n",
    "import io\n",
    "from io import BytesIO\n",
    "import argparse\n",
    "import os\n",
    "import joblib\n",
    "import json\n",
    "import pandas as pd\n",
    "from sklearn.linear_model import LinearRegression\n",
    "from sklearn.metrics import mean_squared_error, r2_score\n",
    "\n",
    "def model_fn(model_dir):\n",
    "    clf = joblib.load(os.path.join(model_dir, 'model.joblib'))\n",
    "    return clf\n",
    "\n",
    "def input_fn(request_body, content_type):\n",
    "    if content_type == 'application/json':\n",
    "        request = json.loads(request_body)\n",
    "        return pd.DataFrame(request)\n",
    "    elif content_type == 'text/csv':\n",
    "        return pd.read_csv(io.StringIO(request_body), header=None)\n",
    "    elif content_type == 'application/x-npy':\n",
    "        stream = BytesIO(request_body)\n",
    "        data = np.load(stream)\n",
    "        return pd.DataFrame(data)\n",
    "    elif content_type == 'text/libsvm':\n",
    "        from sklearn.datasets import load_svmlight_file\n",
    "        stream = io.StringIO(request_body)\n",
    "        X, y = load_svmlight_file(stream)\n",
    "        return pd.DataFrame(X)\n",
    "    else:\n",
    "        raise ValueError(f'Unsupported content type: {content_type}')\n",
    "\n",
    "def predict_fn(input_data, model):\n",
    "    predictions = model.predict(input_data)\n",
    "    return predictions\n",
    "\n",
    "def output_fn(prediction, accept):\n",
    "    if accept == 'application/json':\n",
    "        response = prediction.tolist()\n",
    "        return json.dumps(response), 'application/json'\n",
    "    \n",
    "    elif accept == 'text/csv':\n",
    "        output = io.StringIO()\n",
    "        pd.DataFrame(prediction).to_csv(output, header=False, index=False)\n",
    "        return output.getvalue(), 'text/csv'\n",
    "    \n",
    "    elif accept == 'text/html; charset=utf-8':\n",
    "        html = \"<html><body><h2>Prediction Results</h2><table border='1'>\"\n",
    "        for row in prediction:\n",
    "            html += \"<tr>\"\n",
    "            for val in row:\n",
    "                html += f\"<td>{val}</td>\"\n",
    "            html += \"</tr>\"\n",
    "        html += \"</table></body></html>\"\n",
    "        return html, 'text/html; charset=utf-8'\n",
    "    else:\n",
    "        raise ValueError(f'Unsupported content type: {accept}')\n",
    "\n",
    "if __name__ == \"__main__\":\n",
    "    print(\"Extracting arguments\")\n",
    "    parser = argparse.ArgumentParser()\n",
    "\n",
    "    parser.add_argument(\"--fit-intercept\", type=bool, default=True)\n",
    "\n",
    "    parser.add_argument(\"--model-dir\", type=str, default=os.environ.get(\"SM_MODEL_DIR\"))\n",
    "    parser.add_argument(\"--train\", type=str, default=os.environ.get(\"SM_CHANNEL_TRAIN\"))\n",
    "    parser.add_argument(\"--test\", type=str, default=os.environ.get(\"SM_CHANNEL_TEST\"))\n",
    "    parser.add_argument(\"--train-file\", type=str, default=\"train-V1.csv\")\n",
    "    parser.add_argument(\"--test-file\", type=str, default=\"test-V1.csv\")\n",
    "    \n",
    "    args, _ = parser.parse_known_args()\n",
    "    \n",
    "    print(\"Reading data\")\n",
    "\n",
    "    train_df = pd.read_csv(os.path.join(args.train, args.train_file))\n",
    "    test_df = pd.read_csv(os.path.join(args.test, args.test_file))\n",
    "\n",
    "    print(\"Building training and testing datasets\")\n",
    "    X_train = train_df.drop(columns=[train_df.columns[-2], train_df.columns[-1]])\n",
    "    X_test = test_df.drop(columns=[test_df.columns[-2], test_df.columns[-1]])\n",
    "    y_train = train_df[[train_df.columns[-2], train_df.columns[-1]]]\n",
    "    y_test = test_df[[train_df.columns[-2], train_df.columns[-1]]]\n",
    "    print(\"Training model\")\n",
    "\n",
    "    model = LinearRegression(fit_intercept=args.fit_intercept)\n",
    "    \n",
    "    model.fit(X_train, y_train)\n",
    "\n",
    "    y_train_pred = model.predict(X_train)\n",
    "    y_test_pred = model.predict(X_test)\n",
    "\n",
    "    print(\"Validating model\")\n",
    "    train_mse = mean_squared_error(y_train, y_train_pred)\n",
    "    test_mse = mean_squared_error(y_test, y_test_pred)\n",
    "\n",
    "    print(f\"Train MSE: {train_mse:.3f}\")\n",
    "    print(f\"Test MSE: {test_mse:.3f}\")\n",
    "\n",
    "    train_r2 = r2_score(y_train, y_train_pred)\n",
    "    test_r2 = r2_score(y_test, y_test_pred)\n",
    "\n",
    "    print(f\"Train R² Score: {train_r2:.3f}\")\n",
    "    print(f\"Test R² Score: {test_r2:.3f}\")\n",
    "\n",
    "    model_path = os.path.join(args.model_dir, \"model.joblib\")\n",
    "    joblib.dump(model, model_path)\n",
    "    print(f\"Model saved at {model_path}\")"
   ]
  },
  {
   "cell_type": "code",
   "execution_count": 23,
   "id": "6d21e33c-1c9d-4310-87a0-1f3ccc3724e9",
   "metadata": {},
   "outputs": [
    {
     "name": "stdout",
     "output_type": "stream",
     "text": [
      "Extracting arguments\n",
      "Reading data\n",
      "Building training and testing datasets\n",
      "Training model\n",
      "Validating model\n",
      "Train MSE: 15.725\n",
      "Test MSE: 17.542\n",
      "Train R² Score: 0.865\n",
      "Test R² Score: 0.837\n",
      "Model saved at ./model.joblib\n"
     ]
    }
   ],
   "source": [
    "! python script.py --fit-intercept True \\\n",
    "                 --model-dir ./ \\\n",
    "                 --train ./ \\\n",
    "                 --test ./ \\\n",
    "                 --train-file train-V1.csv \\\n",
    "                 --test-file test-V1.csv\n"
   ]
  },
  {
   "cell_type": "code",
   "execution_count": 24,
   "id": "73e079dc-b82a-4671-b946-2f01cb7bdd4e",
   "metadata": {},
   "outputs": [],
   "source": [
    "from sagemaker.sklearn.estimator import SKLearn\n",
    "from sagemaker import get_execution_role\n",
    "\n",
    "FRAMEWORK_VERSION = \"1.2-1\"  \n",
    "\n",
    "sklearn_estimator = SKLearn(\n",
    "    entry_point=\"script.py\",  \n",
    "    role=get_execution_role(),\n",
    "    instance_count=1,\n",
    "    instance_type=\"ml.c5.xlarge\",\n",
    "    framework_version=FRAMEWORK_VERSION,\n",
    "    base_job_name=\"poly-reg-training-job\",  \n",
    "    hyperparameters={\n",
    "        \"fit-intercept\": \"True\"  \n",
    "    },\n",
    ")"
   ]
  },
  {
   "cell_type": "code",
   "execution_count": 26,
   "id": "e87b7f1c-861a-40c7-93eb-860c22a87ae2",
   "metadata": {
    "scrolled": true
   },
   "outputs": [
    {
     "name": "stderr",
     "output_type": "stream",
     "text": [
      "INFO:sagemaker:Creating training-job with name: poly-reg-training-job-2024-09-23-20-07-21-551\n"
     ]
    },
    {
     "name": "stdout",
     "output_type": "stream",
     "text": [
      "2024-09-23 20:07:22 Starting - Starting the training job...\n",
      "2024-09-23 20:07:37 Starting - Preparing the instances for training...\n",
      "2024-09-23 20:07:57 Downloading - Downloading input data...\n",
      "2024-09-23 20:08:22 Downloading - Downloading the training image..\u001b[34m2024-09-23 20:09:02,855 sagemaker-containers INFO     Imported framework sagemaker_sklearn_container.training\u001b[0m\n",
      "\u001b[34m2024-09-23 20:09:02,857 sagemaker-training-toolkit INFO     No GPUs detected (normal if no gpus installed)\u001b[0m\n",
      "\u001b[34m2024-09-23 20:09:02,860 sagemaker-training-toolkit INFO     No Neurons detected (normal if no neurons installed)\u001b[0m\n",
      "\u001b[34m2024-09-23 20:09:02,877 sagemaker_sklearn_container.training INFO     Invoking user training script.\u001b[0m\n",
      "\u001b[34m2024-09-23 20:09:03,139 sagemaker-training-toolkit INFO     No GPUs detected (normal if no gpus installed)\u001b[0m\n",
      "\u001b[34m2024-09-23 20:09:03,142 sagemaker-training-toolkit INFO     No Neurons detected (normal if no neurons installed)\u001b[0m\n",
      "\u001b[34m2024-09-23 20:09:03,163 sagemaker-training-toolkit INFO     No GPUs detected (normal if no gpus installed)\u001b[0m\n",
      "\u001b[34m2024-09-23 20:09:03,166 sagemaker-training-toolkit INFO     No Neurons detected (normal if no neurons installed)\u001b[0m\n",
      "\u001b[34m2024-09-23 20:09:03,183 sagemaker-training-toolkit INFO     No GPUs detected (normal if no gpus installed)\u001b[0m\n",
      "\u001b[34m2024-09-23 20:09:03,186 sagemaker-training-toolkit INFO     No Neurons detected (normal if no neurons installed)\u001b[0m\n",
      "\u001b[34m2024-09-23 20:09:03,200 sagemaker-training-toolkit INFO     Invoking user script\u001b[0m\n",
      "\u001b[34mTraining Env:\u001b[0m\n",
      "\u001b[34m{\n",
      "    \"additional_framework_parameters\": {},\n",
      "    \"channel_input_dirs\": {\n",
      "        \"test\": \"/opt/ml/input/data/test\",\n",
      "        \"train\": \"/opt/ml/input/data/train\"\n",
      "    },\n",
      "    \"current_host\": \"algo-1\",\n",
      "    \"current_instance_group\": \"homogeneousCluster\",\n",
      "    \"current_instance_group_hosts\": [\n",
      "        \"algo-1\"\n",
      "    ],\n",
      "    \"current_instance_type\": \"ml.c5.xlarge\",\n",
      "    \"distribution_hosts\": [],\n",
      "    \"distribution_instance_groups\": [],\n",
      "    \"framework_module\": \"sagemaker_sklearn_container.training:main\",\n",
      "    \"hosts\": [\n",
      "        \"algo-1\"\n",
      "    ],\n",
      "    \"hyperparameters\": {\n",
      "        \"fit-intercept\": \"True\"\n",
      "    },\n",
      "    \"input_config_dir\": \"/opt/ml/input/config\",\n",
      "    \"input_data_config\": {\n",
      "        \"test\": {\n",
      "            \"TrainingInputMode\": \"File\",\n",
      "            \"S3DistributionType\": \"FullyReplicated\",\n",
      "            \"RecordWrapperType\": \"None\"\n",
      "        },\n",
      "        \"train\": {\n",
      "            \"TrainingInputMode\": \"File\",\n",
      "            \"S3DistributionType\": \"FullyReplicated\",\n",
      "            \"RecordWrapperType\": \"None\"\n",
      "        }\n",
      "    },\n",
      "    \"input_dir\": \"/opt/ml/input\",\n",
      "    \"instance_groups\": [\n",
      "        \"homogeneousCluster\"\n",
      "    ],\n",
      "    \"instance_groups_dict\": {\n",
      "        \"homogeneousCluster\": {\n",
      "            \"instance_group_name\": \"homogeneousCluster\",\n",
      "            \"instance_type\": \"ml.c5.xlarge\",\n",
      "            \"hosts\": [\n",
      "                \"algo-1\"\n",
      "            ]\n",
      "        }\n",
      "    },\n",
      "    \"is_hetero\": false,\n",
      "    \"is_master\": true,\n",
      "    \"is_modelparallel_enabled\": null,\n",
      "    \"is_smddpmprun_installed\": false,\n",
      "    \"is_smddprun_installed\": false,\n",
      "    \"job_name\": \"poly-reg-training-job-2024-09-23-20-07-21-551\",\n",
      "    \"log_level\": 20,\n",
      "    \"master_hostname\": \"algo-1\",\n",
      "    \"model_dir\": \"/opt/ml/model\",\n",
      "    \"module_dir\": \"s3://sagemaker-eu-west-3-024848443248/poly-reg-training-job-2024-09-23-20-07-21-551/source/sourcedir.tar.gz\",\n",
      "    \"module_name\": \"script\",\n",
      "    \"network_interface_name\": \"eth0\",\n",
      "    \"num_cpus\": 4,\n",
      "    \"num_gpus\": 0,\n",
      "    \"num_neurons\": 0,\n",
      "    \"output_data_dir\": \"/opt/ml/output/data\",\n",
      "    \"output_dir\": \"/opt/ml/output\",\n",
      "    \"output_intermediate_dir\": \"/opt/ml/output/intermediate\",\n",
      "    \"resource_config\": {\n",
      "        \"current_host\": \"algo-1\",\n",
      "        \"current_instance_type\": \"ml.c5.xlarge\",\n",
      "        \"current_group_name\": \"homogeneousCluster\",\n",
      "        \"hosts\": [\n",
      "            \"algo-1\"\n",
      "        ],\n",
      "        \"instance_groups\": [\n",
      "            {\n",
      "                \"instance_group_name\": \"homogeneousCluster\",\n",
      "                \"instance_type\": \"ml.c5.xlarge\",\n",
      "                \"hosts\": [\n",
      "                    \"algo-1\"\n",
      "                ]\n",
      "            }\n",
      "        ],\n",
      "        \"network_interface_name\": \"eth0\"\n",
      "    },\n",
      "    \"user_entry_point\": \"script.py\"\u001b[0m\n",
      "\u001b[34m}\u001b[0m\n",
      "\u001b[34mEnvironment variables:\u001b[0m\n",
      "\u001b[34mSM_HOSTS=[\"algo-1\"]\u001b[0m\n",
      "\u001b[34mSM_NETWORK_INTERFACE_NAME=eth0\u001b[0m\n",
      "\u001b[34mSM_HPS={\"fit-intercept\":\"True\"}\u001b[0m\n",
      "\u001b[34mSM_USER_ENTRY_POINT=script.py\u001b[0m\n",
      "\u001b[34mSM_FRAMEWORK_PARAMS={}\u001b[0m\n",
      "\u001b[34mSM_RESOURCE_CONFIG={\"current_group_name\":\"homogeneousCluster\",\"current_host\":\"algo-1\",\"current_instance_type\":\"ml.c5.xlarge\",\"hosts\":[\"algo-1\"],\"instance_groups\":[{\"hosts\":[\"algo-1\"],\"instance_group_name\":\"homogeneousCluster\",\"instance_type\":\"ml.c5.xlarge\"}],\"network_interface_name\":\"eth0\"}\u001b[0m\n",
      "\u001b[34mSM_INPUT_DATA_CONFIG={\"test\":{\"RecordWrapperType\":\"None\",\"S3DistributionType\":\"FullyReplicated\",\"TrainingInputMode\":\"File\"},\"train\":{\"RecordWrapperType\":\"None\",\"S3DistributionType\":\"FullyReplicated\",\"TrainingInputMode\":\"File\"}}\u001b[0m\n",
      "\u001b[34mSM_OUTPUT_DATA_DIR=/opt/ml/output/data\u001b[0m\n",
      "\u001b[34mSM_CHANNELS=[\"test\",\"train\"]\u001b[0m\n",
      "\u001b[34mSM_CURRENT_HOST=algo-1\u001b[0m\n",
      "\u001b[34mSM_CURRENT_INSTANCE_TYPE=ml.c5.xlarge\u001b[0m\n",
      "\u001b[34mSM_CURRENT_INSTANCE_GROUP=homogeneousCluster\u001b[0m\n",
      "\u001b[34mSM_CURRENT_INSTANCE_GROUP_HOSTS=[\"algo-1\"]\u001b[0m\n",
      "\u001b[34mSM_INSTANCE_GROUPS=[\"homogeneousCluster\"]\u001b[0m\n",
      "\u001b[34mSM_INSTANCE_GROUPS_DICT={\"homogeneousCluster\":{\"hosts\":[\"algo-1\"],\"instance_group_name\":\"homogeneousCluster\",\"instance_type\":\"ml.c5.xlarge\"}}\u001b[0m\n",
      "\u001b[34mSM_DISTRIBUTION_INSTANCE_GROUPS=[]\u001b[0m\n",
      "\u001b[34mSM_IS_HETERO=false\u001b[0m\n",
      "\u001b[34mSM_MODULE_NAME=script\u001b[0m\n",
      "\u001b[34mSM_LOG_LEVEL=20\u001b[0m\n",
      "\u001b[34mSM_FRAMEWORK_MODULE=sagemaker_sklearn_container.training:main\u001b[0m\n",
      "\u001b[34mSM_INPUT_DIR=/opt/ml/input\u001b[0m\n",
      "\u001b[34mSM_INPUT_CONFIG_DIR=/opt/ml/input/config\u001b[0m\n",
      "\u001b[34mSM_OUTPUT_DIR=/opt/ml/output\u001b[0m\n",
      "\u001b[34mSM_NUM_CPUS=4\u001b[0m\n",
      "\u001b[34mSM_NUM_GPUS=0\u001b[0m\n",
      "\u001b[34mSM_NUM_NEURONS=0\u001b[0m\n",
      "\u001b[34mSM_MODEL_DIR=/opt/ml/model\u001b[0m\n",
      "\u001b[34mSM_MODULE_DIR=s3://sagemaker-eu-west-3-024848443248/poly-reg-training-job-2024-09-23-20-07-21-551/source/sourcedir.tar.gz\u001b[0m\n",
      "\u001b[34mSM_TRAINING_ENV={\"additional_framework_parameters\":{},\"channel_input_dirs\":{\"test\":\"/opt/ml/input/data/test\",\"train\":\"/opt/ml/input/data/train\"},\"current_host\":\"algo-1\",\"current_instance_group\":\"homogeneousCluster\",\"current_instance_group_hosts\":[\"algo-1\"],\"current_instance_type\":\"ml.c5.xlarge\",\"distribution_hosts\":[],\"distribution_instance_groups\":[],\"framework_module\":\"sagemaker_sklearn_container.training:main\",\"hosts\":[\"algo-1\"],\"hyperparameters\":{\"fit-intercept\":\"True\"},\"input_config_dir\":\"/opt/ml/input/config\",\"input_data_config\":{\"test\":{\"RecordWrapperType\":\"None\",\"S3DistributionType\":\"FullyReplicated\",\"TrainingInputMode\":\"File\"},\"train\":{\"RecordWrapperType\":\"None\",\"S3DistributionType\":\"FullyReplicated\",\"TrainingInputMode\":\"File\"}},\"input_dir\":\"/opt/ml/input\",\"instance_groups\":[\"homogeneousCluster\"],\"instance_groups_dict\":{\"homogeneousCluster\":{\"hosts\":[\"algo-1\"],\"instance_group_name\":\"homogeneousCluster\",\"instance_type\":\"ml.c5.xlarge\"}},\"is_hetero\":false,\"is_master\":true,\"is_modelparallel_enabled\":null,\"is_smddpmprun_installed\":false,\"is_smddprun_installed\":false,\"job_name\":\"poly-reg-training-job-2024-09-23-20-07-21-551\",\"log_level\":20,\"master_hostname\":\"algo-1\",\"model_dir\":\"/opt/ml/model\",\"module_dir\":\"s3://sagemaker-eu-west-3-024848443248/poly-reg-training-job-2024-09-23-20-07-21-551/source/sourcedir.tar.gz\",\"module_name\":\"script\",\"network_interface_name\":\"eth0\",\"num_cpus\":4,\"num_gpus\":0,\"num_neurons\":0,\"output_data_dir\":\"/opt/ml/output/data\",\"output_dir\":\"/opt/ml/output\",\"output_intermediate_dir\":\"/opt/ml/output/intermediate\",\"resource_config\":{\"current_group_name\":\"homogeneousCluster\",\"current_host\":\"algo-1\",\"current_instance_type\":\"ml.c5.xlarge\",\"hosts\":[\"algo-1\"],\"instance_groups\":[{\"hosts\":[\"algo-1\"],\"instance_group_name\":\"homogeneousCluster\",\"instance_type\":\"ml.c5.xlarge\"}],\"network_interface_name\":\"eth0\"},\"user_entry_point\":\"script.py\"}\u001b[0m\n",
      "\u001b[34mSM_USER_ARGS=[\"--fit-intercept\",\"True\"]\u001b[0m\n",
      "\u001b[34mSM_OUTPUT_INTERMEDIATE_DIR=/opt/ml/output/intermediate\u001b[0m\n",
      "\u001b[34mSM_CHANNEL_TEST=/opt/ml/input/data/test\u001b[0m\n",
      "\u001b[34mSM_CHANNEL_TRAIN=/opt/ml/input/data/train\u001b[0m\n",
      "\u001b[34mSM_HP_FIT-INTERCEPT=True\u001b[0m\n",
      "\u001b[34mPYTHONPATH=/opt/ml/code:/miniconda3/bin:/miniconda3/lib/python38.zip:/miniconda3/lib/python3.8:/miniconda3/lib/python3.8/lib-dynload:/miniconda3/lib/python3.8/site-packages\u001b[0m\n",
      "\u001b[34mInvoking script with the following command:\u001b[0m\n",
      "\u001b[34m/miniconda3/bin/python script.py --fit-intercept True\u001b[0m\n",
      "\u001b[34m2024-09-23 20:09:03,201 sagemaker-training-toolkit INFO     Exceptions not imported for SageMaker Debugger as it is not installed.\u001b[0m\n",
      "\u001b[34m2024-09-23 20:09:03,201 sagemaker-training-toolkit INFO     Exceptions not imported for SageMaker TF as Tensorflow is not installed.\u001b[0m\n",
      "\u001b[34mExtracting arguments\u001b[0m\n",
      "\u001b[34mReading data\u001b[0m\n",
      "\u001b[34mBuilding training and testing datasets\u001b[0m\n",
      "\u001b[34mTraining model\u001b[0m\n",
      "\u001b[34mValidating model\u001b[0m\n",
      "\u001b[34mTrain MSE: 15.725\u001b[0m\n",
      "\u001b[34mTest MSE: 17.542\u001b[0m\n",
      "\u001b[34mTrain R² Score: 0.865\u001b[0m\n",
      "\u001b[34mTest R² Score: 0.837\u001b[0m\n",
      "\u001b[34mModel saved at /opt/ml/model/model.joblib\u001b[0m\n",
      "\u001b[34m2024-09-23 20:09:04,028 sagemaker-containers INFO     Reporting training SUCCESS\u001b[0m\n",
      "\n",
      "2024-09-23 20:09:21 Training - Training image download completed. Training in progress.\n",
      "2024-09-23 20:09:21 Uploading - Uploading generated training model\n",
      "2024-09-23 20:09:21 Completed - Training job completed\n",
      "Training seconds: 84\n",
      "Billable seconds: 84\n"
     ]
    }
   ],
   "source": [
    "sklearn_estimator.fit({\"train\": trainpath, \"test\": testpath}, wait=True)"
   ]
  },
  {
   "cell_type": "code",
   "execution_count": 27,
   "id": "781ad7ef-086b-4791-b15f-602a5369bb2b",
   "metadata": {},
   "outputs": [
    {
     "name": "stdout",
     "output_type": "stream",
     "text": [
      "Model artifact persisted at s3://sagemaker-eu-west-3-024848443248/poly-reg-training-job-2024-09-23-20-07-21-551/output/model.tar.gz\n"
     ]
    }
   ],
   "source": [
    "artifact = sm_boto3.describe_training_job(\n",
    "   TrainingJobName=sklearn_estimator.latest_training_job.name\n",
    ")[\"ModelArtifacts\"][\"S3ModelArtifacts\"]\n",
    "\n",
    "print(\"Model artifact persisted at \" + artifact)"
   ]
  },
  {
   "cell_type": "code",
   "execution_count": 28,
   "id": "007c1815-797b-45b1-9f84-ab779998e8ad",
   "metadata": {},
   "outputs": [],
   "source": [
    "import sagemaker\n",
    "from sagemaker.sklearn import SKLearnModel\n",
    "\n",
    "role = sagemaker.get_execution_role()\n",
    "artifact_path = \"s3://sagemaker-eu-west-3-024848443248/poly-reg-training-job-2024-09-09-09-46-19-927/output/model.tar.gz\"\n",
    "\n",
    "model = SKLearnModel(\n",
    "    role=role,\n",
    "    model_data=artifact_path,\n",
    "    framework_version=\"1.2-1\",\n",
    "    py_version=\"py3\",\n",
    "    entry_point=\"script.py\",\n",
    ")\n"
   ]
  },
  {
   "cell_type": "code",
   "execution_count": 33,
   "id": "0a5a5432-e415-462d-868f-0a4d0d698854",
   "metadata": {},
   "outputs": [
    {
     "name": "stderr",
     "output_type": "stream",
     "text": [
      "INFO:sagemaker:Creating model with name: sagemaker-scikit-learn-2024-09-23-20-14-06-684\n",
      "INFO:sagemaker:Creating endpoint-config with name sagemaker-scikit-learn-2024-09-23-20-14-07-414\n",
      "INFO:sagemaker:Creating endpoint with name sagemaker-scikit-learn-2024-09-23-20-14-07-414\n"
     ]
    },
    {
     "name": "stdout",
     "output_type": "stream",
     "text": [
      "-------!"
     ]
    }
   ],
   "source": [
    "predictor = model.deploy(instance_type='ml.c5.large', initial_instance_count=1)"
   ]
  },
  {
   "cell_type": "code",
   "execution_count": 34,
   "id": "55531521-42ea-4304-bcb6-56e006a0c217",
   "metadata": {},
   "outputs": [],
   "source": [
    "import pandas as pd\n",
    "import numpy as np\n",
    "\n",
    "new_data = pd.DataFrame({\n",
    "    'heart_rate': [88],\n",
    "    'body_temperature': [37.3],\n",
    "    'oxygen_saturation': [77],\n",
    "})\n",
    "\n",
    "payload = new_data.to_csv(header=False, index=False).strip()"
   ]
  },
  {
   "cell_type": "code",
   "execution_count": 35,
   "id": "764287e2-b904-4601-bdb2-a81d143d1db8",
   "metadata": {},
   "outputs": [],
   "source": [
    "json_data = new_data.values.tolist()"
   ]
  },
  {
   "cell_type": "code",
   "execution_count": 36,
   "id": "73e8b437-b2cf-41ca-94a0-a25189ef09a5",
   "metadata": {},
   "outputs": [
    {
     "name": "stdout",
     "output_type": "stream",
     "text": [
      "JSON formatted input:\n",
      " [[88.0, 37.3, 77.0]]\n"
     ]
    }
   ],
   "source": [
    "import json\n",
    "\n",
    "json_payload = json.dumps(json_data)\n",
    "print(\"JSON formatted input:\\n\", json_payload)\n"
   ]
  },
  {
   "cell_type": "code",
   "execution_count": 38,
   "id": "66f79524-c865-49ba-8c88-0e2cf15ec454",
   "metadata": {},
   "outputs": [
    {
     "name": "stdout",
     "output_type": "stream",
     "text": [
      "[[118.90291949174195, 82.12846207245718]]\n"
     ]
    }
   ],
   "source": [
    "import boto3\n",
    "import numpy as np\n",
    "from io import BytesIO\n",
    "\n",
    "client = boto3.client('runtime.sagemaker')\n",
    "\n",
    "test_data = np.array([[80, 36.5, 95]])  \n",
    "\n",
    "buffer = BytesIO()\n",
    "np.save(buffer, test_data)  \n",
    "buffer.seek(0)  \n",
    "\n",
    "response = client.invoke_endpoint(\n",
    "    EndpointName='sagemaker-scikit-learn-2024-09-23-20-14-07-414',  \n",
    "    Body=buffer.getvalue(),  \n",
    "    ContentType='application/x-npy'  \n",
    ")\n",
    "\n",
    "response_body = response['Body'].read().decode(\"utf-8\")\n",
    "print(response_body)\n"
   ]
  }
 ],
 "metadata": {
  "kernelspec": {
   "display_name": "Python 3 (ipykernel)",
   "language": "python",
   "name": "python3"
  },
  "language_info": {
   "codemirror_mode": {
    "name": "ipython",
    "version": 3
   },
   "file_extension": ".py",
   "mimetype": "text/x-python",
   "name": "python",
   "nbconvert_exporter": "python",
   "pygments_lexer": "ipython3",
   "version": "3.10.14"
  }
 },
 "nbformat": 4,
 "nbformat_minor": 5
}
